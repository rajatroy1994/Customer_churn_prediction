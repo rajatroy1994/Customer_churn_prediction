{
 "cells": [
  {
   "cell_type": "markdown",
   "id": "cbdf8618",
   "metadata": {},
   "source": [
    "# Customer Churn predication"
   ]
  },
  {
   "cell_type": "code",
   "execution_count": 185,
   "id": "665c0e28",
   "metadata": {},
   "outputs": [],
   "source": [
    "import pandas as pd\n",
    "import numpy as np\n",
    "import matplotlib.pyplot as plt\n",
    "import seaborn as sns"
   ]
  },
  {
   "cell_type": "code",
   "execution_count": 186,
   "id": "5f8c9bc8",
   "metadata": {},
   "outputs": [],
   "source": [
    "df=pd.read_csv(\"C:\\\\Users\\\\Rajat-PC\\\\Downloads\\\\Customer Churn Data.csv\")"
   ]
  },
  {
   "cell_type": "code",
   "execution_count": 187,
   "id": "b6141636",
   "metadata": {},
   "outputs": [
    {
     "data": {
      "text/html": [
       "<div>\n",
       "<style scoped>\n",
       "    .dataframe tbody tr th:only-of-type {\n",
       "        vertical-align: middle;\n",
       "    }\n",
       "\n",
       "    .dataframe tbody tr th {\n",
       "        vertical-align: top;\n",
       "    }\n",
       "\n",
       "    .dataframe thead th {\n",
       "        text-align: right;\n",
       "    }\n",
       "</style>\n",
       "<table border=\"1\" class=\"dataframe\">\n",
       "  <thead>\n",
       "    <tr style=\"text-align: right;\">\n",
       "      <th></th>\n",
       "      <th>AccountID</th>\n",
       "      <th>Churn</th>\n",
       "      <th>Tenure</th>\n",
       "      <th>City_Tier</th>\n",
       "      <th>CC_Contacted_LY</th>\n",
       "      <th>Payment</th>\n",
       "      <th>Gender</th>\n",
       "      <th>Service_Score</th>\n",
       "      <th>Account_user_count</th>\n",
       "      <th>account_segment</th>\n",
       "      <th>CC_Agent_Score</th>\n",
       "      <th>Marital_Status</th>\n",
       "      <th>rev_per_month</th>\n",
       "      <th>Complain_ly</th>\n",
       "      <th>rev_growth_yoy</th>\n",
       "      <th>coupon_used_for_payment</th>\n",
       "      <th>Day_Since_CC_connect</th>\n",
       "      <th>cashback</th>\n",
       "      <th>Login_device</th>\n",
       "    </tr>\n",
       "  </thead>\n",
       "  <tbody>\n",
       "    <tr>\n",
       "      <th>0</th>\n",
       "      <td>20000</td>\n",
       "      <td>1</td>\n",
       "      <td>4</td>\n",
       "      <td>3.0</td>\n",
       "      <td>6.0</td>\n",
       "      <td>Debit Card</td>\n",
       "      <td>Female</td>\n",
       "      <td>3.0</td>\n",
       "      <td>3</td>\n",
       "      <td>Super</td>\n",
       "      <td>2.0</td>\n",
       "      <td>Single</td>\n",
       "      <td>9</td>\n",
       "      <td>1.0</td>\n",
       "      <td>11</td>\n",
       "      <td>1</td>\n",
       "      <td>5</td>\n",
       "      <td>160</td>\n",
       "      <td>Mobile</td>\n",
       "    </tr>\n",
       "    <tr>\n",
       "      <th>1</th>\n",
       "      <td>20001</td>\n",
       "      <td>1</td>\n",
       "      <td>0</td>\n",
       "      <td>1.0</td>\n",
       "      <td>8.0</td>\n",
       "      <td>UPI</td>\n",
       "      <td>Male</td>\n",
       "      <td>3.0</td>\n",
       "      <td>4</td>\n",
       "      <td>Regular Plus</td>\n",
       "      <td>3.0</td>\n",
       "      <td>Single</td>\n",
       "      <td>7</td>\n",
       "      <td>1.0</td>\n",
       "      <td>15</td>\n",
       "      <td>0</td>\n",
       "      <td>0</td>\n",
       "      <td>121</td>\n",
       "      <td>Mobile</td>\n",
       "    </tr>\n",
       "    <tr>\n",
       "      <th>2</th>\n",
       "      <td>20002</td>\n",
       "      <td>1</td>\n",
       "      <td>0</td>\n",
       "      <td>1.0</td>\n",
       "      <td>30.0</td>\n",
       "      <td>Debit Card</td>\n",
       "      <td>Male</td>\n",
       "      <td>2.0</td>\n",
       "      <td>4</td>\n",
       "      <td>Regular Plus</td>\n",
       "      <td>3.0</td>\n",
       "      <td>Single</td>\n",
       "      <td>6</td>\n",
       "      <td>1.0</td>\n",
       "      <td>14</td>\n",
       "      <td>0</td>\n",
       "      <td>3</td>\n",
       "      <td>NaN</td>\n",
       "      <td>Mobile</td>\n",
       "    </tr>\n",
       "    <tr>\n",
       "      <th>3</th>\n",
       "      <td>20003</td>\n",
       "      <td>1</td>\n",
       "      <td>0</td>\n",
       "      <td>3.0</td>\n",
       "      <td>15.0</td>\n",
       "      <td>Debit Card</td>\n",
       "      <td>Male</td>\n",
       "      <td>2.0</td>\n",
       "      <td>4</td>\n",
       "      <td>Super</td>\n",
       "      <td>5.0</td>\n",
       "      <td>Single</td>\n",
       "      <td>8</td>\n",
       "      <td>0.0</td>\n",
       "      <td>23</td>\n",
       "      <td>0</td>\n",
       "      <td>3</td>\n",
       "      <td>134</td>\n",
       "      <td>Mobile</td>\n",
       "    </tr>\n",
       "    <tr>\n",
       "      <th>4</th>\n",
       "      <td>20004</td>\n",
       "      <td>1</td>\n",
       "      <td>0</td>\n",
       "      <td>1.0</td>\n",
       "      <td>12.0</td>\n",
       "      <td>Credit Card</td>\n",
       "      <td>Male</td>\n",
       "      <td>2.0</td>\n",
       "      <td>3</td>\n",
       "      <td>Regular Plus</td>\n",
       "      <td>5.0</td>\n",
       "      <td>Single</td>\n",
       "      <td>3</td>\n",
       "      <td>0.0</td>\n",
       "      <td>11</td>\n",
       "      <td>1</td>\n",
       "      <td>3</td>\n",
       "      <td>130</td>\n",
       "      <td>Mobile</td>\n",
       "    </tr>\n",
       "  </tbody>\n",
       "</table>\n",
       "</div>"
      ],
      "text/plain": [
       "   AccountID  Churn Tenure  City_Tier  CC_Contacted_LY      Payment  Gender  \\\n",
       "0      20000      1      4        3.0              6.0   Debit Card  Female   \n",
       "1      20001      1      0        1.0              8.0          UPI    Male   \n",
       "2      20002      1      0        1.0             30.0   Debit Card    Male   \n",
       "3      20003      1      0        3.0             15.0   Debit Card    Male   \n",
       "4      20004      1      0        1.0             12.0  Credit Card    Male   \n",
       "\n",
       "   Service_Score Account_user_count account_segment  CC_Agent_Score  \\\n",
       "0            3.0                  3           Super             2.0   \n",
       "1            3.0                  4    Regular Plus             3.0   \n",
       "2            2.0                  4    Regular Plus             3.0   \n",
       "3            2.0                  4           Super             5.0   \n",
       "4            2.0                  3    Regular Plus             5.0   \n",
       "\n",
       "  Marital_Status rev_per_month  Complain_ly rev_growth_yoy  \\\n",
       "0         Single             9          1.0             11   \n",
       "1         Single             7          1.0             15   \n",
       "2         Single             6          1.0             14   \n",
       "3         Single             8          0.0             23   \n",
       "4         Single             3          0.0             11   \n",
       "\n",
       "  coupon_used_for_payment Day_Since_CC_connect cashback Login_device  \n",
       "0                       1                    5      160       Mobile  \n",
       "1                       0                    0      121       Mobile  \n",
       "2                       0                    3      NaN       Mobile  \n",
       "3                       0                    3      134       Mobile  \n",
       "4                       1                    3      130       Mobile  "
      ]
     },
     "execution_count": 187,
     "metadata": {},
     "output_type": "execute_result"
    }
   ],
   "source": [
    "df.head()"
   ]
  },
  {
   "cell_type": "code",
   "execution_count": 188,
   "id": "82e73c4b",
   "metadata": {},
   "outputs": [],
   "source": [
    "df.drop(\"AccountID\",axis=1,inplace=True)"
   ]
  },
  {
   "cell_type": "code",
   "execution_count": 189,
   "id": "677f2cf1",
   "metadata": {},
   "outputs": [
    {
     "data": {
      "text/html": [
       "<div>\n",
       "<style scoped>\n",
       "    .dataframe tbody tr th:only-of-type {\n",
       "        vertical-align: middle;\n",
       "    }\n",
       "\n",
       "    .dataframe tbody tr th {\n",
       "        vertical-align: top;\n",
       "    }\n",
       "\n",
       "    .dataframe thead th {\n",
       "        text-align: right;\n",
       "    }\n",
       "</style>\n",
       "<table border=\"1\" class=\"dataframe\">\n",
       "  <thead>\n",
       "    <tr style=\"text-align: right;\">\n",
       "      <th></th>\n",
       "      <th>Churn</th>\n",
       "      <th>Tenure</th>\n",
       "      <th>City_Tier</th>\n",
       "      <th>CC_Contacted_LY</th>\n",
       "      <th>Payment</th>\n",
       "      <th>Gender</th>\n",
       "      <th>Service_Score</th>\n",
       "      <th>Account_user_count</th>\n",
       "      <th>account_segment</th>\n",
       "      <th>CC_Agent_Score</th>\n",
       "      <th>Marital_Status</th>\n",
       "      <th>rev_per_month</th>\n",
       "      <th>Complain_ly</th>\n",
       "      <th>rev_growth_yoy</th>\n",
       "      <th>coupon_used_for_payment</th>\n",
       "      <th>Day_Since_CC_connect</th>\n",
       "      <th>cashback</th>\n",
       "      <th>Login_device</th>\n",
       "    </tr>\n",
       "  </thead>\n",
       "  <tbody>\n",
       "    <tr>\n",
       "      <th>0</th>\n",
       "      <td>1</td>\n",
       "      <td>4</td>\n",
       "      <td>3.0</td>\n",
       "      <td>6.0</td>\n",
       "      <td>Debit Card</td>\n",
       "      <td>Female</td>\n",
       "      <td>3.0</td>\n",
       "      <td>3</td>\n",
       "      <td>Super</td>\n",
       "      <td>2.0</td>\n",
       "      <td>Single</td>\n",
       "      <td>9</td>\n",
       "      <td>1.0</td>\n",
       "      <td>11</td>\n",
       "      <td>1</td>\n",
       "      <td>5</td>\n",
       "      <td>160</td>\n",
       "      <td>Mobile</td>\n",
       "    </tr>\n",
       "    <tr>\n",
       "      <th>1</th>\n",
       "      <td>1</td>\n",
       "      <td>0</td>\n",
       "      <td>1.0</td>\n",
       "      <td>8.0</td>\n",
       "      <td>UPI</td>\n",
       "      <td>Male</td>\n",
       "      <td>3.0</td>\n",
       "      <td>4</td>\n",
       "      <td>Regular Plus</td>\n",
       "      <td>3.0</td>\n",
       "      <td>Single</td>\n",
       "      <td>7</td>\n",
       "      <td>1.0</td>\n",
       "      <td>15</td>\n",
       "      <td>0</td>\n",
       "      <td>0</td>\n",
       "      <td>121</td>\n",
       "      <td>Mobile</td>\n",
       "    </tr>\n",
       "    <tr>\n",
       "      <th>2</th>\n",
       "      <td>1</td>\n",
       "      <td>0</td>\n",
       "      <td>1.0</td>\n",
       "      <td>30.0</td>\n",
       "      <td>Debit Card</td>\n",
       "      <td>Male</td>\n",
       "      <td>2.0</td>\n",
       "      <td>4</td>\n",
       "      <td>Regular Plus</td>\n",
       "      <td>3.0</td>\n",
       "      <td>Single</td>\n",
       "      <td>6</td>\n",
       "      <td>1.0</td>\n",
       "      <td>14</td>\n",
       "      <td>0</td>\n",
       "      <td>3</td>\n",
       "      <td>NaN</td>\n",
       "      <td>Mobile</td>\n",
       "    </tr>\n",
       "    <tr>\n",
       "      <th>3</th>\n",
       "      <td>1</td>\n",
       "      <td>0</td>\n",
       "      <td>3.0</td>\n",
       "      <td>15.0</td>\n",
       "      <td>Debit Card</td>\n",
       "      <td>Male</td>\n",
       "      <td>2.0</td>\n",
       "      <td>4</td>\n",
       "      <td>Super</td>\n",
       "      <td>5.0</td>\n",
       "      <td>Single</td>\n",
       "      <td>8</td>\n",
       "      <td>0.0</td>\n",
       "      <td>23</td>\n",
       "      <td>0</td>\n",
       "      <td>3</td>\n",
       "      <td>134</td>\n",
       "      <td>Mobile</td>\n",
       "    </tr>\n",
       "    <tr>\n",
       "      <th>4</th>\n",
       "      <td>1</td>\n",
       "      <td>0</td>\n",
       "      <td>1.0</td>\n",
       "      <td>12.0</td>\n",
       "      <td>Credit Card</td>\n",
       "      <td>Male</td>\n",
       "      <td>2.0</td>\n",
       "      <td>3</td>\n",
       "      <td>Regular Plus</td>\n",
       "      <td>5.0</td>\n",
       "      <td>Single</td>\n",
       "      <td>3</td>\n",
       "      <td>0.0</td>\n",
       "      <td>11</td>\n",
       "      <td>1</td>\n",
       "      <td>3</td>\n",
       "      <td>130</td>\n",
       "      <td>Mobile</td>\n",
       "    </tr>\n",
       "  </tbody>\n",
       "</table>\n",
       "</div>"
      ],
      "text/plain": [
       "   Churn Tenure  City_Tier  CC_Contacted_LY      Payment  Gender  \\\n",
       "0      1      4        3.0              6.0   Debit Card  Female   \n",
       "1      1      0        1.0              8.0          UPI    Male   \n",
       "2      1      0        1.0             30.0   Debit Card    Male   \n",
       "3      1      0        3.0             15.0   Debit Card    Male   \n",
       "4      1      0        1.0             12.0  Credit Card    Male   \n",
       "\n",
       "   Service_Score Account_user_count account_segment  CC_Agent_Score  \\\n",
       "0            3.0                  3           Super             2.0   \n",
       "1            3.0                  4    Regular Plus             3.0   \n",
       "2            2.0                  4    Regular Plus             3.0   \n",
       "3            2.0                  4           Super             5.0   \n",
       "4            2.0                  3    Regular Plus             5.0   \n",
       "\n",
       "  Marital_Status rev_per_month  Complain_ly rev_growth_yoy  \\\n",
       "0         Single             9          1.0             11   \n",
       "1         Single             7          1.0             15   \n",
       "2         Single             6          1.0             14   \n",
       "3         Single             8          0.0             23   \n",
       "4         Single             3          0.0             11   \n",
       "\n",
       "  coupon_used_for_payment Day_Since_CC_connect cashback Login_device  \n",
       "0                       1                    5      160       Mobile  \n",
       "1                       0                    0      121       Mobile  \n",
       "2                       0                    3      NaN       Mobile  \n",
       "3                       0                    3      134       Mobile  \n",
       "4                       1                    3      130       Mobile  "
      ]
     },
     "execution_count": 189,
     "metadata": {},
     "output_type": "execute_result"
    }
   ],
   "source": [
    "df.head()"
   ]
  },
  {
   "cell_type": "code",
   "execution_count": 190,
   "id": "757fe4ad",
   "metadata": {},
   "outputs": [
    {
     "name": "stdout",
     "output_type": "stream",
     "text": [
      "<class 'pandas.core.frame.DataFrame'>\n",
      "RangeIndex: 11260 entries, 0 to 11259\n",
      "Data columns (total 18 columns):\n",
      " #   Column                   Non-Null Count  Dtype  \n",
      "---  ------                   --------------  -----  \n",
      " 0   Churn                    11260 non-null  int64  \n",
      " 1   Tenure                   11158 non-null  object \n",
      " 2   City_Tier                11148 non-null  float64\n",
      " 3   CC_Contacted_LY          11158 non-null  float64\n",
      " 4   Payment                  11151 non-null  object \n",
      " 5   Gender                   11152 non-null  object \n",
      " 6   Service_Score            11162 non-null  float64\n",
      " 7   Account_user_count       11148 non-null  object \n",
      " 8   account_segment          11163 non-null  object \n",
      " 9   CC_Agent_Score           11144 non-null  float64\n",
      " 10  Marital_Status           11048 non-null  object \n",
      " 11  rev_per_month            11158 non-null  object \n",
      " 12  Complain_ly              10903 non-null  float64\n",
      " 13  rev_growth_yoy           11260 non-null  object \n",
      " 14  coupon_used_for_payment  11260 non-null  object \n",
      " 15  Day_Since_CC_connect     10903 non-null  object \n",
      " 16  cashback                 10789 non-null  object \n",
      " 17  Login_device             11039 non-null  object \n",
      "dtypes: float64(5), int64(1), object(12)\n",
      "memory usage: 1.5+ MB\n"
     ]
    }
   ],
   "source": [
    "df.info()"
   ]
  },
  {
   "cell_type": "code",
   "execution_count": 191,
   "id": "105436ea",
   "metadata": {},
   "outputs": [
    {
     "data": {
      "text/plain": [
       "Churn                        0\n",
       "Tenure                     102\n",
       "City_Tier                  112\n",
       "CC_Contacted_LY            102\n",
       "Payment                    109\n",
       "Gender                     108\n",
       "Service_Score               98\n",
       "Account_user_count         112\n",
       "account_segment             97\n",
       "CC_Agent_Score             116\n",
       "Marital_Status             212\n",
       "rev_per_month              102\n",
       "Complain_ly                357\n",
       "rev_growth_yoy               0\n",
       "coupon_used_for_payment      0\n",
       "Day_Since_CC_connect       357\n",
       "cashback                   471\n",
       "Login_device               221\n",
       "dtype: int64"
      ]
     },
     "execution_count": 191,
     "metadata": {},
     "output_type": "execute_result"
    }
   ],
   "source": [
    "df.isna().sum()"
   ]
  },
  {
   "cell_type": "code",
   "execution_count": 192,
   "id": "db3886e3",
   "metadata": {},
   "outputs": [
    {
     "data": {
      "text/plain": [
       "Index(['Churn', 'Tenure', 'City_Tier', 'CC_Contacted_LY', 'Payment', 'Gender',\n",
       "       'Service_Score', 'Account_user_count', 'account_segment',\n",
       "       'CC_Agent_Score', 'Marital_Status', 'rev_per_month', 'Complain_ly',\n",
       "       'rev_growth_yoy', 'coupon_used_for_payment', 'Day_Since_CC_connect',\n",
       "       'cashback', 'Login_device'],\n",
       "      dtype='object')"
      ]
     },
     "execution_count": 192,
     "metadata": {},
     "output_type": "execute_result"
    }
   ],
   "source": [
    "df.columns"
   ]
  },
  {
   "cell_type": "code",
   "execution_count": 193,
   "id": "aa143269",
   "metadata": {},
   "outputs": [
    {
     "data": {
      "text/plain": [
       "array(['4', '0', '2', '13', '11', '#', '9', '99', '19', '20', '14', '8',\n",
       "       '26', '18', '5', '30', '7', '1', '23', '3', '29', '6', '28', '24',\n",
       "       '25', '16', '10', '15', '22', nan, '27', '12', '21', '17', '50',\n",
       "       '60', '31', '51', '61'], dtype=object)"
      ]
     },
     "execution_count": 193,
     "metadata": {},
     "output_type": "execute_result"
    }
   ],
   "source": [
    "df[\"Tenure\"].unique()"
   ]
  },
  {
   "cell_type": "code",
   "execution_count": 194,
   "id": "13876e88",
   "metadata": {},
   "outputs": [],
   "source": [
    "df[\"Tenure\"].replace(\"#\",np.nan,inplace=True)"
   ]
  },
  {
   "cell_type": "code",
   "execution_count": 195,
   "id": "71f5477e",
   "metadata": {},
   "outputs": [
    {
     "data": {
      "text/plain": [
       "array(['4', '0', '2', '13', '11', nan, '9', '99', '19', '20', '14', '8',\n",
       "       '26', '18', '5', '30', '7', '1', '23', '3', '29', '6', '28', '24',\n",
       "       '25', '16', '10', '15', '22', '27', '12', '21', '17', '50', '60',\n",
       "       '31', '51', '61'], dtype=object)"
      ]
     },
     "execution_count": 195,
     "metadata": {},
     "output_type": "execute_result"
    }
   ],
   "source": [
    "df[\"Tenure\"].unique()"
   ]
  },
  {
   "cell_type": "code",
   "execution_count": 196,
   "id": "996719be",
   "metadata": {},
   "outputs": [
    {
     "data": {
      "text/plain": [
       "9.0"
      ]
     },
     "execution_count": 196,
     "metadata": {},
     "output_type": "execute_result"
    }
   ],
   "source": [
    "df[\"Tenure\"].median()\n"
   ]
  },
  {
   "cell_type": "code",
   "execution_count": 197,
   "id": "926a4122",
   "metadata": {},
   "outputs": [],
   "source": [
    "df[\"Tenure\"].replace(np.nan,9,inplace=True)"
   ]
  },
  {
   "cell_type": "code",
   "execution_count": 198,
   "id": "61265bb5",
   "metadata": {},
   "outputs": [
    {
     "data": {
      "text/plain": [
       "array([ 3.,  1., nan,  2.])"
      ]
     },
     "execution_count": 198,
     "metadata": {},
     "output_type": "execute_result"
    }
   ],
   "source": [
    "df['City_Tier'].unique()"
   ]
  },
  {
   "cell_type": "code",
   "execution_count": 199,
   "id": "6d0334de",
   "metadata": {},
   "outputs": [
    {
     "data": {
      "text/plain": [
       "1.0"
      ]
     },
     "execution_count": 199,
     "metadata": {},
     "output_type": "execute_result"
    }
   ],
   "source": [
    "df['City_Tier'].median()"
   ]
  },
  {
   "cell_type": "code",
   "execution_count": 200,
   "id": "cb861da8",
   "metadata": {},
   "outputs": [],
   "source": [
    "df['City_Tier'].replace(np.nan,1,inplace=True)"
   ]
  },
  {
   "cell_type": "code",
   "execution_count": 201,
   "id": "d210f44d",
   "metadata": {},
   "outputs": [
    {
     "data": {
      "text/plain": [
       "array([  6.,   8.,  30.,  15.,  12.,  22.,  11.,   9.,  31.,  18.,  13.,\n",
       "        20.,  29.,  28.,  26.,  14.,  10.,  25.,  27.,  17.,  23.,  33.,\n",
       "        19.,  35.,  24.,  16.,  32.,  21.,  nan,  34.,   5.,   4., 126.,\n",
       "         7.,  36., 127.,  42.,  38.,  37.,  39.,  40.,  41., 132.,  43.,\n",
       "       129.])"
      ]
     },
     "execution_count": 201,
     "metadata": {},
     "output_type": "execute_result"
    }
   ],
   "source": [
    "df['CC_Contacted_LY'].unique()"
   ]
  },
  {
   "cell_type": "code",
   "execution_count": 202,
   "id": "a1f132ed",
   "metadata": {},
   "outputs": [
    {
     "data": {
      "text/plain": [
       "16.0"
      ]
     },
     "execution_count": 202,
     "metadata": {},
     "output_type": "execute_result"
    }
   ],
   "source": [
    "df['CC_Contacted_LY'].median()"
   ]
  },
  {
   "cell_type": "code",
   "execution_count": 203,
   "id": "02a470b7",
   "metadata": {},
   "outputs": [],
   "source": [
    "df['CC_Contacted_LY'].replace(np.nan,16,inplace=True)"
   ]
  },
  {
   "cell_type": "code",
   "execution_count": 204,
   "id": "19f00c51",
   "metadata": {},
   "outputs": [
    {
     "data": {
      "text/plain": [
       "array(['Debit Card', 'UPI', 'Credit Card', 'Cash on Delivery', 'E wallet',\n",
       "       nan], dtype=object)"
      ]
     },
     "execution_count": 204,
     "metadata": {},
     "output_type": "execute_result"
    }
   ],
   "source": [
    "df['Payment'].unique()"
   ]
  },
  {
   "cell_type": "code",
   "execution_count": 205,
   "id": "f0b3ec49",
   "metadata": {},
   "outputs": [
    {
     "data": {
      "text/plain": [
       "0    Debit Card\n",
       "Name: Payment, dtype: object"
      ]
     },
     "execution_count": 205,
     "metadata": {},
     "output_type": "execute_result"
    }
   ],
   "source": [
    "df['Payment'].mode()"
   ]
  },
  {
   "cell_type": "code",
   "execution_count": 206,
   "id": "946173b3",
   "metadata": {},
   "outputs": [],
   "source": [
    "df['Payment'].replace(np.nan,\"Debit Card\",inplace=True)"
   ]
  },
  {
   "cell_type": "code",
   "execution_count": 207,
   "id": "a0123bcb",
   "metadata": {},
   "outputs": [
    {
     "data": {
      "text/plain": [
       "array(['Female', 'Male', 'F', nan, 'M'], dtype=object)"
      ]
     },
     "execution_count": 207,
     "metadata": {},
     "output_type": "execute_result"
    }
   ],
   "source": [
    "df['Gender'].unique()"
   ]
  },
  {
   "cell_type": "code",
   "execution_count": 208,
   "id": "694eff13",
   "metadata": {},
   "outputs": [],
   "source": [
    "df['Gender'].replace('Female','F',inplace=True)"
   ]
  },
  {
   "cell_type": "code",
   "execution_count": 209,
   "id": "c122d04c",
   "metadata": {},
   "outputs": [],
   "source": [
    "df['Gender'].replace('Male','M',inplace=True)"
   ]
  },
  {
   "cell_type": "code",
   "execution_count": 210,
   "id": "d9289b26",
   "metadata": {},
   "outputs": [
    {
     "data": {
      "text/plain": [
       "array(['F', 'M', nan], dtype=object)"
      ]
     },
     "execution_count": 210,
     "metadata": {},
     "output_type": "execute_result"
    }
   ],
   "source": [
    "df['Gender'].unique()"
   ]
  },
  {
   "cell_type": "code",
   "execution_count": 211,
   "id": "b23327d7",
   "metadata": {},
   "outputs": [
    {
     "data": {
      "text/plain": [
       "0    M\n",
       "Name: Gender, dtype: object"
      ]
     },
     "execution_count": 211,
     "metadata": {},
     "output_type": "execute_result"
    }
   ],
   "source": [
    "df['Gender'].mode()"
   ]
  },
  {
   "cell_type": "code",
   "execution_count": 212,
   "id": "1b6f4345",
   "metadata": {},
   "outputs": [
    {
     "data": {
      "text/plain": [
       "0        F\n",
       "1        M\n",
       "2        M\n",
       "3        M\n",
       "4        M\n",
       "        ..\n",
       "11255    M\n",
       "11256    M\n",
       "11257    M\n",
       "11258    M\n",
       "11259    M\n",
       "Name: Gender, Length: 11260, dtype: object"
      ]
     },
     "execution_count": 212,
     "metadata": {},
     "output_type": "execute_result"
    }
   ],
   "source": [
    "df['Gender'].replace(np.nan,\"M\")"
   ]
  },
  {
   "cell_type": "code",
   "execution_count": 213,
   "id": "0bf1ce77",
   "metadata": {},
   "outputs": [
    {
     "data": {
      "text/plain": [
       "array([ 3.,  2.,  1., nan,  0.,  4.,  5.])"
      ]
     },
     "execution_count": 213,
     "metadata": {},
     "output_type": "execute_result"
    }
   ],
   "source": [
    "df['Service_Score'].unique()"
   ]
  },
  {
   "cell_type": "code",
   "execution_count": 214,
   "id": "cc51e9c3",
   "metadata": {},
   "outputs": [
    {
     "data": {
      "text/plain": [
       "3.0"
      ]
     },
     "execution_count": 214,
     "metadata": {},
     "output_type": "execute_result"
    }
   ],
   "source": [
    "df['Service_Score'].median()"
   ]
  },
  {
   "cell_type": "code",
   "execution_count": 215,
   "id": "ce1367c3",
   "metadata": {},
   "outputs": [],
   "source": [
    "df['Service_Score'].replace(np.nan,3,inplace=True)"
   ]
  },
  {
   "cell_type": "code",
   "execution_count": 216,
   "id": "384c86b2",
   "metadata": {},
   "outputs": [
    {
     "data": {
      "text/plain": [
       "array(['3', '4', nan, '5', '2', '@', '1', '6'], dtype=object)"
      ]
     },
     "execution_count": 216,
     "metadata": {},
     "output_type": "execute_result"
    }
   ],
   "source": [
    "df['Account_user_count'].unique()"
   ]
  },
  {
   "cell_type": "code",
   "execution_count": 217,
   "id": "1c791e63",
   "metadata": {},
   "outputs": [],
   "source": [
    "df['Account_user_count'].replace('@',np.nan,inplace=True)"
   ]
  },
  {
   "cell_type": "code",
   "execution_count": 218,
   "id": "57afadc5",
   "metadata": {},
   "outputs": [
    {
     "data": {
      "text/plain": [
       "array(['3', '4', nan, '5', '2', '1', '6'], dtype=object)"
      ]
     },
     "execution_count": 218,
     "metadata": {},
     "output_type": "execute_result"
    }
   ],
   "source": [
    "df['Account_user_count'].unique()"
   ]
  },
  {
   "cell_type": "code",
   "execution_count": 219,
   "id": "acdb1e1a",
   "metadata": {},
   "outputs": [
    {
     "data": {
      "text/plain": [
       "0    4\n",
       "Name: Account_user_count, dtype: object"
      ]
     },
     "execution_count": 219,
     "metadata": {},
     "output_type": "execute_result"
    }
   ],
   "source": [
    "df['Account_user_count'].mode()"
   ]
  },
  {
   "cell_type": "code",
   "execution_count": 220,
   "id": "fe7d0194",
   "metadata": {},
   "outputs": [],
   "source": [
    "df['Account_user_count'].replace(np.nan,4,inplace=True)"
   ]
  },
  {
   "cell_type": "code",
   "execution_count": 221,
   "id": "d06b7143",
   "metadata": {},
   "outputs": [
    {
     "data": {
      "text/plain": [
       "array(['Super', 'Regular Plus', 'Regular', 'HNI', 'Regular +', nan,\n",
       "       'Super Plus', 'Super +'], dtype=object)"
      ]
     },
     "execution_count": 221,
     "metadata": {},
     "output_type": "execute_result"
    }
   ],
   "source": [
    "df['account_segment'].unique()"
   ]
  },
  {
   "cell_type": "code",
   "execution_count": 222,
   "id": "e963b9e1",
   "metadata": {},
   "outputs": [],
   "source": [
    "df['account_segment'].replace('Super +','Super Plus',inplace=True)"
   ]
  },
  {
   "cell_type": "code",
   "execution_count": 223,
   "id": "3e202ad9",
   "metadata": {},
   "outputs": [],
   "source": [
    "df['account_segment'].replace('Regular +','Regular Plus',inplace=True)"
   ]
  },
  {
   "cell_type": "code",
   "execution_count": 224,
   "id": "0ec99249",
   "metadata": {},
   "outputs": [
    {
     "data": {
      "text/plain": [
       "array(['Super', 'Regular Plus', 'Regular', 'HNI', nan, 'Super Plus'],\n",
       "      dtype=object)"
      ]
     },
     "execution_count": 224,
     "metadata": {},
     "output_type": "execute_result"
    }
   ],
   "source": [
    "df['account_segment'].unique()"
   ]
  },
  {
   "cell_type": "code",
   "execution_count": 225,
   "id": "7598781f",
   "metadata": {},
   "outputs": [
    {
     "data": {
      "text/plain": [
       "0    Regular Plus\n",
       "Name: account_segment, dtype: object"
      ]
     },
     "execution_count": 225,
     "metadata": {},
     "output_type": "execute_result"
    }
   ],
   "source": [
    "df['account_segment'].mode()"
   ]
  },
  {
   "cell_type": "code",
   "execution_count": 226,
   "id": "18738711",
   "metadata": {},
   "outputs": [],
   "source": [
    "df['account_segment'].replace(np.nan,'Regular Plus',inplace=True)"
   ]
  },
  {
   "cell_type": "code",
   "execution_count": 227,
   "id": "496eedc7",
   "metadata": {},
   "outputs": [
    {
     "data": {
      "text/plain": [
       "array([ 2.,  3.,  5.,  4., nan,  1.])"
      ]
     },
     "execution_count": 227,
     "metadata": {},
     "output_type": "execute_result"
    }
   ],
   "source": [
    "df['CC_Agent_Score'].unique()"
   ]
  },
  {
   "cell_type": "code",
   "execution_count": 228,
   "id": "a352326f",
   "metadata": {},
   "outputs": [
    {
     "data": {
      "text/plain": [
       "0    3.0\n",
       "Name: CC_Agent_Score, dtype: float64"
      ]
     },
     "execution_count": 228,
     "metadata": {},
     "output_type": "execute_result"
    }
   ],
   "source": [
    "df['CC_Agent_Score'].mode()"
   ]
  },
  {
   "cell_type": "code",
   "execution_count": 229,
   "id": "731d7168",
   "metadata": {},
   "outputs": [],
   "source": [
    "df['CC_Agent_Score'].replace(np.nan,3.0,inplace=True)"
   ]
  },
  {
   "cell_type": "code",
   "execution_count": 230,
   "id": "9371074f",
   "metadata": {},
   "outputs": [
    {
     "data": {
      "text/plain": [
       "array(['Single', 'Divorced', 'Married', nan], dtype=object)"
      ]
     },
     "execution_count": 230,
     "metadata": {},
     "output_type": "execute_result"
    }
   ],
   "source": [
    "df['Marital_Status'].unique()"
   ]
  },
  {
   "cell_type": "code",
   "execution_count": 231,
   "id": "27cada2c",
   "metadata": {},
   "outputs": [
    {
     "data": {
      "text/plain": [
       "0    Married\n",
       "Name: Marital_Status, dtype: object"
      ]
     },
     "execution_count": 231,
     "metadata": {},
     "output_type": "execute_result"
    }
   ],
   "source": [
    "df['Marital_Status'].mode()"
   ]
  },
  {
   "cell_type": "code",
   "execution_count": 232,
   "id": "55e6ed64",
   "metadata": {},
   "outputs": [],
   "source": [
    "df['Marital_Status'].replace(np.nan,'Married',inplace=True)"
   ]
  },
  {
   "cell_type": "code",
   "execution_count": 233,
   "id": "d1de2e04",
   "metadata": {},
   "outputs": [
    {
     "data": {
      "text/plain": [
       "array(['9', '7', '6', '8', '3', '2', '4', '10', '1', '5', '+', '130', nan,\n",
       "       '19', '139', '102', '120', '138', '127', '123', '124', '116', '21',\n",
       "       '126', '134', '113', '114', '108', '140', '133', '129', '107',\n",
       "       '118', '11', '105', '20', '119', '121', '137', '110', '22', '101',\n",
       "       '136', '125', '14', '13', '12', '115', '23', '122', '117', '131',\n",
       "       '104', '15', '25', '135', '111', '109', '100', '103'], dtype=object)"
      ]
     },
     "execution_count": 233,
     "metadata": {},
     "output_type": "execute_result"
    }
   ],
   "source": [
    "df['rev_per_month'].unique()"
   ]
  },
  {
   "cell_type": "code",
   "execution_count": 234,
   "id": "df5ad5f5",
   "metadata": {},
   "outputs": [],
   "source": [
    "df['rev_per_month'].replace('+',np.nan,inplace=True)"
   ]
  },
  {
   "cell_type": "code",
   "execution_count": 235,
   "id": "f720b4d9",
   "metadata": {},
   "outputs": [
    {
     "data": {
      "text/plain": [
       "5.0"
      ]
     },
     "execution_count": 235,
     "metadata": {},
     "output_type": "execute_result"
    }
   ],
   "source": [
    "df['rev_per_month'].median()"
   ]
  },
  {
   "cell_type": "code",
   "execution_count": 236,
   "id": "4ef7e92d",
   "metadata": {},
   "outputs": [],
   "source": [
    "df['rev_per_month'].replace(np.nan,5,inplace=True)"
   ]
  },
  {
   "cell_type": "code",
   "execution_count": 237,
   "id": "53f3ca5e",
   "metadata": {},
   "outputs": [
    {
     "data": {
      "text/plain": [
       "array([ 1.,  0., nan])"
      ]
     },
     "execution_count": 237,
     "metadata": {},
     "output_type": "execute_result"
    }
   ],
   "source": [
    "df['Complain_ly'].unique()"
   ]
  },
  {
   "cell_type": "code",
   "execution_count": 238,
   "id": "4f48f644",
   "metadata": {},
   "outputs": [
    {
     "data": {
      "text/plain": [
       "0    0.0\n",
       "Name: Complain_ly, dtype: float64"
      ]
     },
     "execution_count": 238,
     "metadata": {},
     "output_type": "execute_result"
    }
   ],
   "source": [
    "df['Complain_ly'].mode()"
   ]
  },
  {
   "cell_type": "code",
   "execution_count": 239,
   "id": "98178353",
   "metadata": {},
   "outputs": [],
   "source": [
    "df['Complain_ly'].replace(np.nan,0,inplace=True)"
   ]
  },
  {
   "cell_type": "code",
   "execution_count": 240,
   "id": "fd4af495",
   "metadata": {},
   "outputs": [
    {
     "data": {
      "text/plain": [
       "array(['11', '15', '14', '23', '22', '16', '12', '13', '17', '18', '24',\n",
       "       '19', '20', '21', '25', '26', '$', '4', '27', '28'], dtype=object)"
      ]
     },
     "execution_count": 240,
     "metadata": {},
     "output_type": "execute_result"
    }
   ],
   "source": [
    "df['rev_growth_yoy'].unique()"
   ]
  },
  {
   "cell_type": "code",
   "execution_count": 241,
   "id": "ded0fd29",
   "metadata": {},
   "outputs": [],
   "source": [
    "df['rev_growth_yoy'].replace('$',np.nan,inplace=True)"
   ]
  },
  {
   "cell_type": "code",
   "execution_count": 242,
   "id": "62fcfd56",
   "metadata": {},
   "outputs": [
    {
     "data": {
      "text/plain": [
       "15.0"
      ]
     },
     "execution_count": 242,
     "metadata": {},
     "output_type": "execute_result"
    }
   ],
   "source": [
    "df['rev_growth_yoy'].median()"
   ]
  },
  {
   "cell_type": "code",
   "execution_count": 243,
   "id": "ad9821cb",
   "metadata": {},
   "outputs": [],
   "source": [
    "df['rev_growth_yoy'].replace(np.nan,15,inplace=True)"
   ]
  },
  {
   "cell_type": "code",
   "execution_count": 244,
   "id": "7ae1614d",
   "metadata": {},
   "outputs": [
    {
     "data": {
      "text/plain": [
       "array(['1', '0', '4', '2', '9', '6', '11', '7', '12', '10', '5', '3',\n",
       "       '13', '15', '8', '#', '$', '14', '*', '16'], dtype=object)"
      ]
     },
     "execution_count": 244,
     "metadata": {},
     "output_type": "execute_result"
    }
   ],
   "source": [
    "df['coupon_used_for_payment'].unique()"
   ]
  },
  {
   "cell_type": "code",
   "execution_count": 245,
   "id": "6c6e0ca3",
   "metadata": {},
   "outputs": [],
   "source": [
    "df['coupon_used_for_payment'].replace('#',np.nan,inplace=True)"
   ]
  },
  {
   "cell_type": "code",
   "execution_count": 246,
   "id": "5a771609",
   "metadata": {},
   "outputs": [],
   "source": [
    "df['coupon_used_for_payment'].replace('$',np.nan,inplace=True)"
   ]
  },
  {
   "cell_type": "code",
   "execution_count": 247,
   "id": "55de8aa0",
   "metadata": {},
   "outputs": [],
   "source": [
    "df['coupon_used_for_payment'].replace('*',np.nan,inplace=True)"
   ]
  },
  {
   "cell_type": "code",
   "execution_count": 248,
   "id": "65e9f078",
   "metadata": {},
   "outputs": [
    {
     "data": {
      "text/plain": [
       "1.0"
      ]
     },
     "execution_count": 248,
     "metadata": {},
     "output_type": "execute_result"
    }
   ],
   "source": [
    "df['coupon_used_for_payment'].median()"
   ]
  },
  {
   "cell_type": "code",
   "execution_count": 249,
   "id": "548c9e11",
   "metadata": {},
   "outputs": [],
   "source": [
    "df['coupon_used_for_payment'].replace(np.nan,1,inplace=True)"
   ]
  },
  {
   "cell_type": "code",
   "execution_count": 250,
   "id": "8a067d55",
   "metadata": {},
   "outputs": [
    {
     "data": {
      "text/plain": [
       "array(['5', '0', '3', '7', '2', '1', '8', '6', '4', '15', nan, '11', '10',\n",
       "       '9', '13', '12', '17', '16', '14', '30', '$', '46', '18', '31',\n",
       "       '47'], dtype=object)"
      ]
     },
     "execution_count": 250,
     "metadata": {},
     "output_type": "execute_result"
    }
   ],
   "source": [
    "df['Day_Since_CC_connect'].unique()"
   ]
  },
  {
   "cell_type": "code",
   "execution_count": 251,
   "id": "9037e62e",
   "metadata": {},
   "outputs": [],
   "source": [
    "df['Day_Since_CC_connect'].replace('$',np.nan,inplace=True)"
   ]
  },
  {
   "cell_type": "code",
   "execution_count": 252,
   "id": "5db56540",
   "metadata": {},
   "outputs": [
    {
     "data": {
      "text/plain": [
       "0    3\n",
       "Name: Day_Since_CC_connect, dtype: object"
      ]
     },
     "execution_count": 252,
     "metadata": {},
     "output_type": "execute_result"
    }
   ],
   "source": [
    "df['Day_Since_CC_connect'].mode()"
   ]
  },
  {
   "cell_type": "code",
   "execution_count": 253,
   "id": "46407ab8",
   "metadata": {},
   "outputs": [],
   "source": [
    "df['Day_Since_CC_connect'].replace(np.nan,3,inplace=True)"
   ]
  },
  {
   "cell_type": "code",
   "execution_count": 254,
   "id": "3fa74c08",
   "metadata": {},
   "outputs": [
    {
     "data": {
      "text/plain": [
       "array(['160', '121', nan, '134', '130', '139', '123', '127', '295', '154',\n",
       "       '196', '129', '157', '161', '150', '162', '203', '117', '207',\n",
       "       '142', '173', '190', '143', '1974', '133', '209', '122', '120',\n",
       "       '194', '126', '299', '125', '187', '131', '111', '205', '145',\n",
       "       '128', '290', '287', '195', '237', '300', '159', '268', '136',\n",
       "       '144', '153', '166', '163', '168', '138', '167', '176', '149',\n",
       "       '204', '185', '200', '225', '236', '189', '222', '206', '0', '179',\n",
       "       '188', '124', '132', '292', '261', '291', '137', '1955', '164',\n",
       "       '165', '169', '294', '135', '152', '269', '156', '140', '235',\n",
       "       '218', '220', '276', '146', '147', '158', '114', '180', '155',\n",
       "       '260', '112', '221', '148', '219', '271', '1813', '175', '151',\n",
       "       '293', '283', '215', '171', '183', '1862', '197', '267', '243',\n",
       "       '1982', '184', '266', '296', '280', '241', '270', '279', '191',\n",
       "       '198', '141', '232', '174', '262', '216', '119', '282', '254',\n",
       "       '177', '110', '113', '186', '212', '248', '217', '238', '211', '$',\n",
       "       '284', '116', '272', '202', '263', '208', '249', '178', '274',\n",
       "       '240', '1840', '210', '227', '298', '233', '277', '234', '275',\n",
       "       '231', '182', '286', '1920', '278', '297', '288', '1908', '281',\n",
       "       '1865', '1945', '199', '273', '247', '193', '264', '192', '201',\n",
       "       '1843', '1803', '1844', '252', '170', '229', '230', '258', '115',\n",
       "       '1894', '289', '1917', '239', '1992', '1807', '181', '1912',\n",
       "       '1985', '56', '228', '1896', '1983', '214', '1943', '1918', '1967',\n",
       "       '244', '1944', '1921', '118', '320', '324', '315', '312', '325',\n",
       "       '250', '25', '213', '317', '316', '1931', '319', '245', '301',\n",
       "       '172', '1907', '285', '246', '265', '318', '308', '1890', '257',\n",
       "       '321', '305', '304', '223', '307', '1804', '1923', '1916', '242',\n",
       "       '309', '253', '1826', '323', '302', '259', '256', '311', '303',\n",
       "       '322', '313', '306', '224', '1971', '226', '1839', '1965', '1928',\n",
       "       '255', '37', '314', '1997', '1878', '1833', '1835', '1877', '1913',\n",
       "       '1984', '81', '1879', '1934', '1991', '1827', '1954', '1869',\n",
       "       '1964', '1953', '1978', '1958', '1914', '1850', '1902', '1888',\n",
       "       '2', '1824', '1951', '1946', '5', '1937', '4', '1829', '3', '1972',\n",
       "       '13', '1853', '1895', '1812', '1858', '57', '1961', '1838', '1800',\n",
       "       '1963', '1911', '1903', '326', '331', '330', '251', '30', '327',\n",
       "       '1919', '310', '1817', '1880', '328', '329', '1979', '1941', '28',\n",
       "       '41', '1957', '1925', '1866', '1929', '1882'], dtype=object)"
      ]
     },
     "execution_count": 254,
     "metadata": {},
     "output_type": "execute_result"
    }
   ],
   "source": [
    "df['cashback'].unique()"
   ]
  },
  {
   "cell_type": "code",
   "execution_count": 255,
   "id": "627815a5",
   "metadata": {},
   "outputs": [],
   "source": [
    "df['cashback'].replace('$',np.nan,inplace=True)"
   ]
  },
  {
   "cell_type": "code",
   "execution_count": 256,
   "id": "6e296948",
   "metadata": {},
   "outputs": [
    {
     "data": {
      "text/plain": [
       "165.0"
      ]
     },
     "execution_count": 256,
     "metadata": {},
     "output_type": "execute_result"
    }
   ],
   "source": [
    "df['cashback'].median()"
   ]
  },
  {
   "cell_type": "code",
   "execution_count": 257,
   "id": "9b16930a",
   "metadata": {},
   "outputs": [],
   "source": [
    "df['cashback'].replace(np.nan,165,inplace=True)"
   ]
  },
  {
   "cell_type": "code",
   "execution_count": 258,
   "id": "2fdebe9b",
   "metadata": {},
   "outputs": [
    {
     "data": {
      "text/plain": [
       "array(['Mobile', 'Computer', '&&&&', nan], dtype=object)"
      ]
     },
     "execution_count": 258,
     "metadata": {},
     "output_type": "execute_result"
    }
   ],
   "source": [
    "df['Login_device'].unique()"
   ]
  },
  {
   "cell_type": "code",
   "execution_count": 259,
   "id": "962ad74f",
   "metadata": {},
   "outputs": [
    {
     "data": {
      "text/plain": [
       "0    Mobile\n",
       "Name: Login_device, dtype: object"
      ]
     },
     "execution_count": 259,
     "metadata": {},
     "output_type": "execute_result"
    }
   ],
   "source": [
    "df['Login_device'].mode()"
   ]
  },
  {
   "cell_type": "code",
   "execution_count": 260,
   "id": "2b532df5",
   "metadata": {},
   "outputs": [],
   "source": [
    "df['Login_device'].replace(np.nan,'Mobile',inplace=True)"
   ]
  },
  {
   "cell_type": "code",
   "execution_count": 261,
   "id": "bd2465c6",
   "metadata": {},
   "outputs": [],
   "source": [
    "df['Login_device'].replace('&&&&',np.nan,inplace=True)"
   ]
  },
  {
   "cell_type": "code",
   "execution_count": 262,
   "id": "e60cc635",
   "metadata": {},
   "outputs": [
    {
     "data": {
      "text/plain": [
       "Churn                      0.000000\n",
       "Tenure                     0.000000\n",
       "City_Tier                  0.000000\n",
       "CC_Contacted_LY            0.000000\n",
       "Payment                    0.000000\n",
       "Gender                     0.959147\n",
       "Service_Score              0.000000\n",
       "Account_user_count         0.000000\n",
       "account_segment            0.000000\n",
       "CC_Agent_Score             0.000000\n",
       "Marital_Status             0.000000\n",
       "rev_per_month              0.000000\n",
       "Complain_ly                0.000000\n",
       "rev_growth_yoy             0.000000\n",
       "coupon_used_for_payment    0.000000\n",
       "Day_Since_CC_connect       0.000000\n",
       "cashback                   0.000000\n",
       "Login_device               4.786856\n",
       "dtype: float64"
      ]
     },
     "execution_count": 262,
     "metadata": {},
     "output_type": "execute_result"
    }
   ],
   "source": [
    "df.isna().sum()/df.shape[0]*100"
   ]
  },
  {
   "cell_type": "code",
   "execution_count": 263,
   "id": "b21cbd3f",
   "metadata": {},
   "outputs": [
    {
     "data": {
      "text/plain": [
       "(11260, 18)"
      ]
     },
     "execution_count": 263,
     "metadata": {},
     "output_type": "execute_result"
    }
   ],
   "source": [
    "df.shape"
   ]
  },
  {
   "cell_type": "code",
   "execution_count": 264,
   "id": "06bc9a56",
   "metadata": {},
   "outputs": [
    {
     "data": {
      "text/plain": [
       "Churn                        0\n",
       "Tenure                       0\n",
       "City_Tier                    0\n",
       "CC_Contacted_LY              0\n",
       "Payment                      0\n",
       "Gender                     108\n",
       "Service_Score                0\n",
       "Account_user_count           0\n",
       "account_segment              0\n",
       "CC_Agent_Score               0\n",
       "Marital_Status               0\n",
       "rev_per_month                0\n",
       "Complain_ly                  0\n",
       "rev_growth_yoy               0\n",
       "coupon_used_for_payment      0\n",
       "Day_Since_CC_connect         0\n",
       "cashback                     0\n",
       "Login_device               539\n",
       "dtype: int64"
      ]
     },
     "execution_count": 264,
     "metadata": {},
     "output_type": "execute_result"
    }
   ],
   "source": [
    "df.isna().sum()"
   ]
  },
  {
   "cell_type": "code",
   "execution_count": 265,
   "id": "0e2ff3da",
   "metadata": {},
   "outputs": [
    {
     "data": {
      "text/plain": [
       "array(['F', 'M', nan], dtype=object)"
      ]
     },
     "execution_count": 265,
     "metadata": {},
     "output_type": "execute_result"
    }
   ],
   "source": [
    "df['Gender'].unique()"
   ]
  },
  {
   "cell_type": "code",
   "execution_count": 266,
   "id": "20de30db",
   "metadata": {},
   "outputs": [
    {
     "data": {
      "text/plain": [
       "0    M\n",
       "Name: Gender, dtype: object"
      ]
     },
     "execution_count": 266,
     "metadata": {},
     "output_type": "execute_result"
    }
   ],
   "source": [
    "df['Gender'].mode()"
   ]
  },
  {
   "cell_type": "code",
   "execution_count": 267,
   "id": "0fb820d0",
   "metadata": {},
   "outputs": [],
   "source": [
    "df['Gender'].replace(np.nan,\"M\",inplace=True)"
   ]
  },
  {
   "cell_type": "code",
   "execution_count": 268,
   "id": "c9052da5",
   "metadata": {},
   "outputs": [
    {
     "data": {
      "text/plain": [
       "Churn                        0\n",
       "Tenure                       0\n",
       "City_Tier                    0\n",
       "CC_Contacted_LY              0\n",
       "Payment                      0\n",
       "Gender                       0\n",
       "Service_Score                0\n",
       "Account_user_count           0\n",
       "account_segment              0\n",
       "CC_Agent_Score               0\n",
       "Marital_Status               0\n",
       "rev_per_month                0\n",
       "Complain_ly                  0\n",
       "rev_growth_yoy               0\n",
       "coupon_used_for_payment      0\n",
       "Day_Since_CC_connect         0\n",
       "cashback                     0\n",
       "Login_device               539\n",
       "dtype: int64"
      ]
     },
     "execution_count": 268,
     "metadata": {},
     "output_type": "execute_result"
    }
   ],
   "source": [
    "df.isna().sum()"
   ]
  },
  {
   "cell_type": "code",
   "execution_count": 269,
   "id": "475b339a",
   "metadata": {},
   "outputs": [
    {
     "name": "stdout",
     "output_type": "stream",
     "text": [
      "<class 'pandas.core.frame.DataFrame'>\n",
      "RangeIndex: 11260 entries, 0 to 11259\n",
      "Data columns (total 18 columns):\n",
      " #   Column                   Non-Null Count  Dtype  \n",
      "---  ------                   --------------  -----  \n",
      " 0   Churn                    11260 non-null  int64  \n",
      " 1   Tenure                   11260 non-null  object \n",
      " 2   City_Tier                11260 non-null  float64\n",
      " 3   CC_Contacted_LY          11260 non-null  float64\n",
      " 4   Payment                  11260 non-null  object \n",
      " 5   Gender                   11260 non-null  object \n",
      " 6   Service_Score            11260 non-null  float64\n",
      " 7   Account_user_count       11260 non-null  object \n",
      " 8   account_segment          11260 non-null  object \n",
      " 9   CC_Agent_Score           11260 non-null  float64\n",
      " 10  Marital_Status           11260 non-null  object \n",
      " 11  rev_per_month            11260 non-null  object \n",
      " 12  Complain_ly              11260 non-null  float64\n",
      " 13  rev_growth_yoy           11260 non-null  object \n",
      " 14  coupon_used_for_payment  11260 non-null  object \n",
      " 15  Day_Since_CC_connect     11260 non-null  object \n",
      " 16  cashback                 11260 non-null  object \n",
      " 17  Login_device             10721 non-null  object \n",
      "dtypes: float64(5), int64(1), object(12)\n",
      "memory usage: 1.5+ MB\n"
     ]
    }
   ],
   "source": [
    "df.info()"
   ]
  },
  {
   "cell_type": "markdown",
   "id": "0510c64b",
   "metadata": {},
   "source": [
    "# eda"
   ]
  },
  {
   "cell_type": "code",
   "execution_count": 270,
   "id": "264e02f9",
   "metadata": {},
   "outputs": [
    {
     "data": {
      "text/plain": [
       "0    9364\n",
       "1    1896\n",
       "Name: Churn, dtype: int64"
      ]
     },
     "execution_count": 270,
     "metadata": {},
     "output_type": "execute_result"
    }
   ],
   "source": [
    "df['Churn'].value_counts()"
   ]
  },
  {
   "cell_type": "code",
   "execution_count": 271,
   "id": "3ac17a89",
   "metadata": {},
   "outputs": [
    {
     "data": {
      "text/plain": [
       "M    6812\n",
       "F    4448\n",
       "Name: Gender, dtype: int64"
      ]
     },
     "execution_count": 271,
     "metadata": {},
     "output_type": "execute_result"
    }
   ],
   "source": [
    "df['Gender'].value_counts()"
   ]
  },
  {
   "cell_type": "code",
   "execution_count": 272,
   "id": "968a81cb",
   "metadata": {},
   "outputs": [
    {
     "name": "stderr",
     "output_type": "stream",
     "text": [
      "C:\\Users\\Rajat-PC\\anaconda3\\lib\\site-packages\\seaborn\\_decorators.py:36: FutureWarning: Pass the following variable as a keyword arg: x. From version 0.12, the only valid positional argument will be `data`, and passing other arguments without an explicit keyword will result in an error or misinterpretation.\n",
      "  warnings.warn(\n"
     ]
    },
    {
     "data": {
      "text/plain": [
       "<AxesSubplot:xlabel='Churn', ylabel='count'>"
      ]
     },
     "execution_count": 272,
     "metadata": {},
     "output_type": "execute_result"
    },
    {
     "data": {
      "image/png": "[encoded data removed]",
      "text/plain": [
       "<Figure size 640x480 with 1 Axes>"
      ]
     },
     "metadata": {},
     "output_type": "display_data"
    }
   ],
   "source": [
    "sns.countplot(df['Churn'])"
   ]
  },
  {
   "cell_type": "code",
   "execution_count": 273,
   "id": "8e833e54",
   "metadata": {},
   "outputs": [
    {
     "data": {
      "text/plain": [
       "<AxesSubplot:xlabel='Churn', ylabel='count'>"
      ]
     },
     "execution_count": 273,
     "metadata": {},
     "output_type": "execute_result"
    },
    {
     "data": {
      "image/png": "[encoded data removed]",
      "text/plain": [
       "<Figure size 640x480 with 1 Axes>"
      ]
     },
     "metadata": {},
     "output_type": "display_data"
    }
   ],
   "source": [
    "sns.countplot(x='Churn',hue='Gender', data=df)"
   ]
  },
  {
   "cell_type": "code",
   "execution_count": null,
   "id": "ec506512",
   "metadata": {},
   "outputs": [],
   "source": []
  },
  {
   "cell_type": "code",
   "execution_count": 274,
   "id": "f0f6176a",
   "metadata": {},
   "outputs": [
    {
     "data": {
      "image/png": "[encoded data removed]",
      "text/plain": [
       "<Figure size 600x400 with 1 Axes>"
      ]
     },
     "metadata": {},
     "output_type": "display_data"
    }
   ],
   "source": [
    "fig, axes = plt.subplots(figsize=(6,4))\n",
    "data = df[\"Churn\"].value_counts()\n",
    "axes.bar(data.index, data.values, color=['green', 'red'])\n",
    "axes.set_title('Distribution of Churn %')\n",
    "axes.set_ylabel('Count')\n",
    "axes.set_xlabel('Customer retained and left')\n",
    "plt.show()\n"
   ]
  },
  {
   "cell_type": "code",
   "execution_count": null,
   "id": "2b8f74fe",
   "metadata": {},
   "outputs": [],
   "source": []
  },
  {
   "cell_type": "code",
   "execution_count": 275,
   "id": "402630eb",
   "metadata": {},
   "outputs": [
    {
     "data": {
      "text/plain": [
       "<AxesSubplot:xlabel='Gender', ylabel='count'>"
      ]
     },
     "execution_count": 275,
     "metadata": {},
     "output_type": "execute_result"
    },
    {
     "data": {
      "image/png": "[encoded data removed]",
      "text/plain": [
       "<Figure size 640x480 with 1 Axes>"
      ]
     },
     "metadata": {},
     "output_type": "display_data"
    }
   ],
   "source": [
    "sns.countplot(x=\"Gender\",hue=\"Marital_Status\",data=df)"
   ]
  },
  {
   "cell_type": "code",
   "execution_count": 276,
   "id": "cb9facca",
   "metadata": {},
   "outputs": [
    {
     "data": {
      "image/png": "[encoded data removed]",
      "text/plain": [
       "<Figure size 800x500 with 1 Axes>"
      ]
     },
     "metadata": {},
     "output_type": "display_data"
    }
   ],
   "source": [
    "\n",
    "fig, axes3 = plt.subplots(figsize=(8,5))\n",
    "\n",
    "# Chances of churn based on gender\n",
    "sns.barplot(x=\"Gender\", y=df[\"Churn\"]*100, data=df, ci=None, ax=axes3)\n",
    "axes3.set_xlabel('Gender')\n",
    "axes3.set_ylabel('Churn %')\n",
    "axes3.set_title('Percentage of churn in each gender')\n",
    "axes3.set_ylim(0,100)\n",
    "plt.show()"
   ]
  },
  {
   "cell_type": "code",
   "execution_count": null,
   "id": "a61b7446",
   "metadata": {
    "scrolled": true
   },
   "outputs": [],
   "source": []
  },
  {
   "cell_type": "code",
   "execution_count": null,
   "id": "0af9aa9a",
   "metadata": {},
   "outputs": [],
   "source": [
    "\n"
   ]
  },
  {
   "cell_type": "code",
   "execution_count": 278,
   "id": "e7b6f964",
   "metadata": {},
   "outputs": [
    {
     "name": "stderr",
     "output_type": "stream",
     "text": [
      "C:\\Users\\Rajat-PC\\anaconda3\\lib\\site-packages\\seaborn\\_decorators.py:36: FutureWarning: Pass the following variable as a keyword arg: x. From version 0.12, the only valid positional argument will be `data`, and passing other arguments without an explicit keyword will result in an error or misinterpretation.\n",
      "  warnings.warn(\n"
     ]
    },
    {
     "data": {
      "text/plain": [
       "<AxesSubplot:xlabel='Payment', ylabel='count'>"
      ]
     },
     "execution_count": 278,
     "metadata": {},
     "output_type": "execute_result"
    },
    {
     "data": {
      "image/png": "[encoded data removed]",
      "text/plain": [
       "<Figure size 640x480 with 1 Axes>"
      ]
     },
     "metadata": {},
     "output_type": "display_data"
    }
   ],
   "source": [
    "sns.countplot(df.Payment)"
   ]
  },
  {
   "cell_type": "code",
   "execution_count": 279,
   "id": "433a6c9f",
   "metadata": {},
   "outputs": [
    {
     "data": {
      "text/plain": [
       "<AxesSubplot:>"
      ]
     },
     "execution_count": 279,
     "metadata": {},
     "output_type": "execute_result"
    },
    {
     "data": {
      "image/png": "[encoded data removed]",
      "text/plain": [
       "<Figure size 1200x500 with 2 Axes>"
      ]
     },
     "metadata": {},
     "output_type": "display_data"
    }
   ],
   "source": [
    "plt.figure(figsize=(12,5))\n",
    "sns.heatmap(df.corr(),\n",
    "           yticklabels=True,\n",
    "           cbar=True,\n",
    "           cmap='rainbow',\n",
    "           annot=True,\n",
    "           linewidths=0,\n",
    "           linecolor=\"grey\")"
   ]
  },
  {
   "cell_type": "code",
   "execution_count": 281,
   "id": "dd349cfe",
   "metadata": {},
   "outputs": [
    {
     "data": {
      "text/plain": [
       "<AxesSubplot:xlabel='Churn'>"
      ]
     },
     "execution_count": 281,
     "metadata": {},
     "output_type": "execute_result"
    },
    {
     "data": {
      "image/png": "[encoded data removed]",
      "text/plain": [
       "<Figure size 640x480 with 1 Axes>"
      ]
     },
     "metadata": {},
     "output_type": "display_data"
    }
   ],
   "source": [
    "sns.boxplot(x=\"Churn\",data=df)"
   ]
  },
  {
   "cell_type": "code",
   "execution_count": 184,
   "id": "7eea4af0",
   "metadata": {},
   "outputs": [
    {
     "data": {
      "text/html": [
       "<div>\n",
       "<style scoped>\n",
       "    .dataframe tbody tr th:only-of-type {\n",
       "        vertical-align: middle;\n",
       "    }\n",
       "\n",
       "    .dataframe tbody tr th {\n",
       "        vertical-align: top;\n",
       "    }\n",
       "\n",
       "    .dataframe thead th {\n",
       "        text-align: right;\n",
       "    }\n",
       "</style>\n",
       "<table border=\"1\" class=\"dataframe\">\n",
       "  <thead>\n",
       "    <tr style=\"text-align: right;\">\n",
       "      <th></th>\n",
       "      <th>Churn</th>\n",
       "      <th>Tenure</th>\n",
       "      <th>City_Tier</th>\n",
       "      <th>CC_Contacted_LY</th>\n",
       "      <th>Payment</th>\n",
       "      <th>Gender</th>\n",
       "      <th>Service_Score</th>\n",
       "      <th>Account_user_count</th>\n",
       "      <th>account_segment</th>\n",
       "      <th>CC_Agent_Score</th>\n",
       "      <th>Marital_Status</th>\n",
       "      <th>rev_per_month</th>\n",
       "      <th>Complain_ly</th>\n",
       "      <th>rev_growth_yoy</th>\n",
       "      <th>coupon_used_for_payment</th>\n",
       "      <th>Day_Since_CC_connect</th>\n",
       "      <th>cashback</th>\n",
       "      <th>Login_device</th>\n",
       "    </tr>\n",
       "  </thead>\n",
       "  <tbody>\n",
       "    <tr>\n",
       "      <th>0</th>\n",
       "      <td>1</td>\n",
       "      <td>4</td>\n",
       "      <td>3.0</td>\n",
       "      <td>6.0</td>\n",
       "      <td>Debit Card</td>\n",
       "      <td>F</td>\n",
       "      <td>3.0</td>\n",
       "      <td>3</td>\n",
       "      <td>Super</td>\n",
       "      <td>2.0</td>\n",
       "      <td>Single</td>\n",
       "      <td>9</td>\n",
       "      <td>1.0</td>\n",
       "      <td>11</td>\n",
       "      <td>1</td>\n",
       "      <td>5</td>\n",
       "      <td>160</td>\n",
       "      <td>Mobile</td>\n",
       "    </tr>\n",
       "    <tr>\n",
       "      <th>1</th>\n",
       "      <td>1</td>\n",
       "      <td>0</td>\n",
       "      <td>1.0</td>\n",
       "      <td>8.0</td>\n",
       "      <td>UPI</td>\n",
       "      <td>M</td>\n",
       "      <td>3.0</td>\n",
       "      <td>4</td>\n",
       "      <td>Regular Plus</td>\n",
       "      <td>3.0</td>\n",
       "      <td>Single</td>\n",
       "      <td>7</td>\n",
       "      <td>1.0</td>\n",
       "      <td>15</td>\n",
       "      <td>0</td>\n",
       "      <td>0</td>\n",
       "      <td>121</td>\n",
       "      <td>Mobile</td>\n",
       "    </tr>\n",
       "    <tr>\n",
       "      <th>2</th>\n",
       "      <td>1</td>\n",
       "      <td>0</td>\n",
       "      <td>1.0</td>\n",
       "      <td>30.0</td>\n",
       "      <td>Debit Card</td>\n",
       "      <td>M</td>\n",
       "      <td>2.0</td>\n",
       "      <td>4</td>\n",
       "      <td>Regular Plus</td>\n",
       "      <td>3.0</td>\n",
       "      <td>Single</td>\n",
       "      <td>6</td>\n",
       "      <td>1.0</td>\n",
       "      <td>14</td>\n",
       "      <td>0</td>\n",
       "      <td>3</td>\n",
       "      <td>165</td>\n",
       "      <td>Mobile</td>\n",
       "    </tr>\n",
       "    <tr>\n",
       "      <th>3</th>\n",
       "      <td>1</td>\n",
       "      <td>0</td>\n",
       "      <td>3.0</td>\n",
       "      <td>15.0</td>\n",
       "      <td>Debit Card</td>\n",
       "      <td>M</td>\n",
       "      <td>2.0</td>\n",
       "      <td>4</td>\n",
       "      <td>Super</td>\n",
       "      <td>5.0</td>\n",
       "      <td>Single</td>\n",
       "      <td>8</td>\n",
       "      <td>0.0</td>\n",
       "      <td>23</td>\n",
       "      <td>0</td>\n",
       "      <td>3</td>\n",
       "      <td>134</td>\n",
       "      <td>Mobile</td>\n",
       "    </tr>\n",
       "    <tr>\n",
       "      <th>4</th>\n",
       "      <td>1</td>\n",
       "      <td>0</td>\n",
       "      <td>1.0</td>\n",
       "      <td>12.0</td>\n",
       "      <td>Credit Card</td>\n",
       "      <td>M</td>\n",
       "      <td>2.0</td>\n",
       "      <td>3</td>\n",
       "      <td>Regular Plus</td>\n",
       "      <td>5.0</td>\n",
       "      <td>Single</td>\n",
       "      <td>3</td>\n",
       "      <td>0.0</td>\n",
       "      <td>11</td>\n",
       "      <td>1</td>\n",
       "      <td>3</td>\n",
       "      <td>130</td>\n",
       "      <td>Mobile</td>\n",
       "    </tr>\n",
       "  </tbody>\n",
       "</table>\n",
       "</div>"
      ],
      "text/plain": [
       "   Churn Tenure  City_Tier  CC_Contacted_LY      Payment Gender  \\\n",
       "0      1      4        3.0              6.0   Debit Card      F   \n",
       "1      1      0        1.0              8.0          UPI      M   \n",
       "2      1      0        1.0             30.0   Debit Card      M   \n",
       "3      1      0        3.0             15.0   Debit Card      M   \n",
       "4      1      0        1.0             12.0  Credit Card      M   \n",
       "\n",
       "   Service_Score Account_user_count account_segment  CC_Agent_Score  \\\n",
       "0            3.0                  3           Super             2.0   \n",
       "1            3.0                  4    Regular Plus             3.0   \n",
       "2            2.0                  4    Regular Plus             3.0   \n",
       "3            2.0                  4           Super             5.0   \n",
       "4            2.0                  3    Regular Plus             5.0   \n",
       "\n",
       "  Marital_Status rev_per_month  Complain_ly rev_growth_yoy  \\\n",
       "0         Single             9          1.0             11   \n",
       "1         Single             7          1.0             15   \n",
       "2         Single             6          1.0             14   \n",
       "3         Single             8          0.0             23   \n",
       "4         Single             3          0.0             11   \n",
       "\n",
       "  coupon_used_for_payment Day_Since_CC_connect cashback Login_device  \n",
       "0                       1                    5      160       Mobile  \n",
       "1                       0                    0      121       Mobile  \n",
       "2                       0                    3      165       Mobile  \n",
       "3                       0                    3      134       Mobile  \n",
       "4                       1                    3      130       Mobile  "
      ]
     },
     "execution_count": 184,
     "metadata": {},
     "output_type": "execute_result"
    }
   ],
   "source": [
    "df.head()"
   ]
  },
  {
   "cell_type": "markdown",
   "id": "06117571",
   "metadata": {},
   "source": [
    "# ENCODING CATAGORICAL DATA"
   ]
  },
  {
   "cell_type": "code",
   "execution_count": 282,
   "id": "97f97080",
   "metadata": {},
   "outputs": [],
   "source": [
    "from sklearn.preprocessing import LabelEncoder,OneHotEncoder"
   ]
  },
  {
   "cell_type": "code",
   "execution_count": 283,
   "id": "d35a44ab",
   "metadata": {},
   "outputs": [],
   "source": [
    "le=LabelEncoder()"
   ]
  },
  {
   "cell_type": "code",
   "execution_count": 285,
   "id": "0fbe6704",
   "metadata": {},
   "outputs": [],
   "source": [
    "df[\"Payment\"]=le.fit_transform(df.Payment)"
   ]
  },
  {
   "cell_type": "code",
   "execution_count": 286,
   "id": "73f33c38",
   "metadata": {},
   "outputs": [],
   "source": [
    "df[\"Gender\"]=le.fit_transform(df.Gender)"
   ]
  },
  {
   "cell_type": "code",
   "execution_count": 287,
   "id": "2d0e2e58",
   "metadata": {},
   "outputs": [],
   "source": [
    "df[\"account_segment\"]=le.fit_transform(df.account_segment)"
   ]
  },
  {
   "cell_type": "code",
   "execution_count": 288,
   "id": "acc3a3f1",
   "metadata": {},
   "outputs": [],
   "source": [
    "df[\"Marital_Status\"]=le.fit_transform(df.Marital_Status)"
   ]
  },
  {
   "cell_type": "code",
   "execution_count": 289,
   "id": "ea28cb7d",
   "metadata": {},
   "outputs": [],
   "source": [
    "df[\"Login_device\"]=le.fit_transform(df.Login_device)"
   ]
  },
  {
   "cell_type": "code",
   "execution_count": 290,
   "id": "8e6202a2",
   "metadata": {},
   "outputs": [
    {
     "data": {
      "text/html": [
       "<div>\n",
       "<style scoped>\n",
       "    .dataframe tbody tr th:only-of-type {\n",
       "        vertical-align: middle;\n",
       "    }\n",
       "\n",
       "    .dataframe tbody tr th {\n",
       "        vertical-align: top;\n",
       "    }\n",
       "\n",
       "    .dataframe thead th {\n",
       "        text-align: right;\n",
       "    }\n",
       "</style>\n",
       "<table border=\"1\" class=\"dataframe\">\n",
       "  <thead>\n",
       "    <tr style=\"text-align: right;\">\n",
       "      <th></th>\n",
       "      <th>Churn</th>\n",
       "      <th>Tenure</th>\n",
       "      <th>City_Tier</th>\n",
       "      <th>CC_Contacted_LY</th>\n",
       "      <th>Payment</th>\n",
       "      <th>Gender</th>\n",
       "      <th>Service_Score</th>\n",
       "      <th>Account_user_count</th>\n",
       "      <th>account_segment</th>\n",
       "      <th>CC_Agent_Score</th>\n",
       "      <th>Marital_Status</th>\n",
       "      <th>rev_per_month</th>\n",
       "      <th>Complain_ly</th>\n",
       "      <th>rev_growth_yoy</th>\n",
       "      <th>coupon_used_for_payment</th>\n",
       "      <th>Day_Since_CC_connect</th>\n",
       "      <th>cashback</th>\n",
       "      <th>Login_device</th>\n",
       "    </tr>\n",
       "  </thead>\n",
       "  <tbody>\n",
       "    <tr>\n",
       "      <th>0</th>\n",
       "      <td>1</td>\n",
       "      <td>4</td>\n",
       "      <td>3.0</td>\n",
       "      <td>6.0</td>\n",
       "      <td>2</td>\n",
       "      <td>0</td>\n",
       "      <td>3.0</td>\n",
       "      <td>3</td>\n",
       "      <td>3</td>\n",
       "      <td>2.0</td>\n",
       "      <td>2</td>\n",
       "      <td>9</td>\n",
       "      <td>1.0</td>\n",
       "      <td>11</td>\n",
       "      <td>1</td>\n",
       "      <td>5</td>\n",
       "      <td>160</td>\n",
       "      <td>1</td>\n",
       "    </tr>\n",
       "    <tr>\n",
       "      <th>1</th>\n",
       "      <td>1</td>\n",
       "      <td>0</td>\n",
       "      <td>1.0</td>\n",
       "      <td>8.0</td>\n",
       "      <td>4</td>\n",
       "      <td>1</td>\n",
       "      <td>3.0</td>\n",
       "      <td>4</td>\n",
       "      <td>2</td>\n",
       "      <td>3.0</td>\n",
       "      <td>2</td>\n",
       "      <td>7</td>\n",
       "      <td>1.0</td>\n",
       "      <td>15</td>\n",
       "      <td>0</td>\n",
       "      <td>0</td>\n",
       "      <td>121</td>\n",
       "      <td>1</td>\n",
       "    </tr>\n",
       "    <tr>\n",
       "      <th>2</th>\n",
       "      <td>1</td>\n",
       "      <td>0</td>\n",
       "      <td>1.0</td>\n",
       "      <td>30.0</td>\n",
       "      <td>2</td>\n",
       "      <td>1</td>\n",
       "      <td>2.0</td>\n",
       "      <td>4</td>\n",
       "      <td>2</td>\n",
       "      <td>3.0</td>\n",
       "      <td>2</td>\n",
       "      <td>6</td>\n",
       "      <td>1.0</td>\n",
       "      <td>14</td>\n",
       "      <td>0</td>\n",
       "      <td>3</td>\n",
       "      <td>165</td>\n",
       "      <td>1</td>\n",
       "    </tr>\n",
       "    <tr>\n",
       "      <th>3</th>\n",
       "      <td>1</td>\n",
       "      <td>0</td>\n",
       "      <td>3.0</td>\n",
       "      <td>15.0</td>\n",
       "      <td>2</td>\n",
       "      <td>1</td>\n",
       "      <td>2.0</td>\n",
       "      <td>4</td>\n",
       "      <td>3</td>\n",
       "      <td>5.0</td>\n",
       "      <td>2</td>\n",
       "      <td>8</td>\n",
       "      <td>0.0</td>\n",
       "      <td>23</td>\n",
       "      <td>0</td>\n",
       "      <td>3</td>\n",
       "      <td>134</td>\n",
       "      <td>1</td>\n",
       "    </tr>\n",
       "    <tr>\n",
       "      <th>4</th>\n",
       "      <td>1</td>\n",
       "      <td>0</td>\n",
       "      <td>1.0</td>\n",
       "      <td>12.0</td>\n",
       "      <td>1</td>\n",
       "      <td>1</td>\n",
       "      <td>2.0</td>\n",
       "      <td>3</td>\n",
       "      <td>2</td>\n",
       "      <td>5.0</td>\n",
       "      <td>2</td>\n",
       "      <td>3</td>\n",
       "      <td>0.0</td>\n",
       "      <td>11</td>\n",
       "      <td>1</td>\n",
       "      <td>3</td>\n",
       "      <td>130</td>\n",
       "      <td>1</td>\n",
       "    </tr>\n",
       "  </tbody>\n",
       "</table>\n",
       "</div>"
      ],
      "text/plain": [
       "   Churn Tenure  City_Tier  CC_Contacted_LY  Payment  Gender  Service_Score  \\\n",
       "0      1      4        3.0              6.0        2       0            3.0   \n",
       "1      1      0        1.0              8.0        4       1            3.0   \n",
       "2      1      0        1.0             30.0        2       1            2.0   \n",
       "3      1      0        3.0             15.0        2       1            2.0   \n",
       "4      1      0        1.0             12.0        1       1            2.0   \n",
       "\n",
       "  Account_user_count  account_segment  CC_Agent_Score  Marital_Status  \\\n",
       "0                  3                3             2.0               2   \n",
       "1                  4                2             3.0               2   \n",
       "2                  4                2             3.0               2   \n",
       "3                  4                3             5.0               2   \n",
       "4                  3                2             5.0               2   \n",
       "\n",
       "  rev_per_month  Complain_ly rev_growth_yoy coupon_used_for_payment  \\\n",
       "0             9          1.0             11                       1   \n",
       "1             7          1.0             15                       0   \n",
       "2             6          1.0             14                       0   \n",
       "3             8          0.0             23                       0   \n",
       "4             3          0.0             11                       1   \n",
       "\n",
       "  Day_Since_CC_connect cashback  Login_device  \n",
       "0                    5      160             1  \n",
       "1                    0      121             1  \n",
       "2                    3      165             1  \n",
       "3                    3      134             1  \n",
       "4                    3      130             1  "
      ]
     },
     "execution_count": 290,
     "metadata": {},
     "output_type": "execute_result"
    }
   ],
   "source": [
    "df.head()"
   ]
  },
  {
   "cell_type": "markdown",
   "id": "23ea6e97",
   "metadata": {},
   "source": [
    "# HENDALING IMBLANCE DATA"
   ]
  },
  {
   "cell_type": "code",
   "execution_count": 292,
   "id": "d33a35a9",
   "metadata": {},
   "outputs": [
    {
     "data": {
      "text/plain": [
       "0    9364\n",
       "1    1896\n",
       "Name: Churn, dtype: int64"
      ]
     },
     "execution_count": 292,
     "metadata": {},
     "output_type": "execute_result"
    }
   ],
   "source": [
    "df.Churn.value_counts()"
   ]
  },
  {
   "cell_type": "code",
   "execution_count": 293,
   "id": "c049c961",
   "metadata": {},
   "outputs": [
    {
     "name": "stderr",
     "output_type": "stream",
     "text": [
      "C:\\Users\\Rajat-PC\\anaconda3\\lib\\site-packages\\seaborn\\_decorators.py:36: FutureWarning: Pass the following variable as a keyword arg: x. From version 0.12, the only valid positional argument will be `data`, and passing other arguments without an explicit keyword will result in an error or misinterpretation.\n",
      "  warnings.warn(\n"
     ]
    },
    {
     "data": {
      "text/plain": [
       "<AxesSubplot:xlabel='Churn', ylabel='count'>"
      ]
     },
     "execution_count": 293,
     "metadata": {},
     "output_type": "execute_result"
    },
    {
     "data": {
      "image/png": "[encoded data removed]",
      "text/plain": [
       "<Figure size 640x480 with 1 Axes>"
      ]
     },
     "metadata": {},
     "output_type": "display_data"
    }
   ],
   "source": [
    "sns.countplot(df.Churn)"
   ]
  },
  {
   "cell_type": "code",
   "execution_count": 294,
   "id": "c2b87650",
   "metadata": {},
   "outputs": [],
   "source": [
    "from imblearn.over_sampling import SMOTE"
   ]
  },
  {
   "cell_type": "code",
   "execution_count": 297,
   "id": "edabb435",
   "metadata": {},
   "outputs": [],
   "source": [
    "x=df.drop(\"Churn\",axis=1)"
   ]
  },
  {
   "cell_type": "code",
   "execution_count": 298,
   "id": "f4a6070a",
   "metadata": {},
   "outputs": [],
   "source": [
    "y=df[\"Churn\"]"
   ]
  },
  {
   "cell_type": "code",
   "execution_count": 301,
   "id": "174eb7ed",
   "metadata": {},
   "outputs": [
    {
     "data": {
      "text/html": [
       "<div>\n",
       "<style scoped>\n",
       "    .dataframe tbody tr th:only-of-type {\n",
       "        vertical-align: middle;\n",
       "    }\n",
       "\n",
       "    .dataframe tbody tr th {\n",
       "        vertical-align: top;\n",
       "    }\n",
       "\n",
       "    .dataframe thead th {\n",
       "        text-align: right;\n",
       "    }\n",
       "</style>\n",
       "<table border=\"1\" class=\"dataframe\">\n",
       "  <thead>\n",
       "    <tr style=\"text-align: right;\">\n",
       "      <th></th>\n",
       "      <th>Tenure</th>\n",
       "      <th>City_Tier</th>\n",
       "      <th>CC_Contacted_LY</th>\n",
       "      <th>Payment</th>\n",
       "      <th>Gender</th>\n",
       "      <th>Service_Score</th>\n",
       "      <th>Account_user_count</th>\n",
       "      <th>account_segment</th>\n",
       "      <th>CC_Agent_Score</th>\n",
       "      <th>Marital_Status</th>\n",
       "      <th>rev_per_month</th>\n",
       "      <th>Complain_ly</th>\n",
       "      <th>rev_growth_yoy</th>\n",
       "      <th>coupon_used_for_payment</th>\n",
       "      <th>Day_Since_CC_connect</th>\n",
       "      <th>cashback</th>\n",
       "      <th>Login_device</th>\n",
       "    </tr>\n",
       "  </thead>\n",
       "  <tbody>\n",
       "    <tr>\n",
       "      <th>0</th>\n",
       "      <td>4</td>\n",
       "      <td>3.0</td>\n",
       "      <td>6.0</td>\n",
       "      <td>2</td>\n",
       "      <td>0</td>\n",
       "      <td>3.0</td>\n",
       "      <td>3</td>\n",
       "      <td>3</td>\n",
       "      <td>2.0</td>\n",
       "      <td>2</td>\n",
       "      <td>9</td>\n",
       "      <td>1.0</td>\n",
       "      <td>11</td>\n",
       "      <td>1</td>\n",
       "      <td>5</td>\n",
       "      <td>160</td>\n",
       "      <td>1</td>\n",
       "    </tr>\n",
       "  </tbody>\n",
       "</table>\n",
       "</div>"
      ],
      "text/plain": [
       "  Tenure  City_Tier  CC_Contacted_LY  Payment  Gender  Service_Score  \\\n",
       "0      4        3.0              6.0        2       0            3.0   \n",
       "\n",
       "  Account_user_count  account_segment  CC_Agent_Score  Marital_Status  \\\n",
       "0                  3                3             2.0               2   \n",
       "\n",
       "  rev_per_month  Complain_ly rev_growth_yoy coupon_used_for_payment  \\\n",
       "0             9          1.0             11                       1   \n",
       "\n",
       "  Day_Since_CC_connect cashback  Login_device  \n",
       "0                    5      160             1  "
      ]
     },
     "execution_count": 301,
     "metadata": {},
     "output_type": "execute_result"
    }
   ],
   "source": [
    "x.head(1)"
   ]
  },
  {
   "cell_type": "code",
   "execution_count": 302,
   "id": "c9da7f7e",
   "metadata": {},
   "outputs": [
    {
     "data": {
      "text/plain": [
       "0    1\n",
       "Name: Churn, dtype: int64"
      ]
     },
     "execution_count": 302,
     "metadata": {},
     "output_type": "execute_result"
    }
   ],
   "source": [
    "y.head(1)"
   ]
  },
  {
   "cell_type": "code",
   "execution_count": 304,
   "id": "efe12344",
   "metadata": {},
   "outputs": [],
   "source": [
    "x_re,y_re=SMOTE().fit_resample(x,y)"
   ]
  },
  {
   "cell_type": "code",
   "execution_count": 305,
   "id": "b0ad113a",
   "metadata": {},
   "outputs": [
    {
     "data": {
      "text/plain": [
       "1    9364\n",
       "0    9364\n",
       "Name: Churn, dtype: int64"
      ]
     },
     "execution_count": 305,
     "metadata": {},
     "output_type": "execute_result"
    }
   ],
   "source": [
    "y_re.value_counts()"
   ]
  },
  {
   "cell_type": "markdown",
   "id": "81037f8e",
   "metadata": {},
   "source": [
    "# SPLITING THE DATASET INTO THE TRAINING DATASET AND TESTING DATASET"
   ]
  },
  {
   "cell_type": "code",
   "execution_count": 309,
   "id": "8bd08a08",
   "metadata": {},
   "outputs": [],
   "source": [
    "from sklearn.model_selection import train_test_split"
   ]
  },
  {
   "cell_type": "code",
   "execution_count": 311,
   "id": "8372abd1",
   "metadata": {},
   "outputs": [],
   "source": [
    "x_train,x_test,y_train,y_test=train_test_split(x_re,y_re,test_size=.2,random_state=101)"
   ]
  },
  {
   "cell_type": "markdown",
   "id": "280400bd",
   "metadata": {},
   "source": [
    "\n",
    "# Feature Scaling"
   ]
  },
  {
   "cell_type": "code",
   "execution_count": 313,
   "id": "72ab3ec3",
   "metadata": {},
   "outputs": [],
   "source": [
    "from sklearn.preprocessing import StandardScaler\n",
    "sc = StandardScaler()\n",
    "x_train = sc.fit_transform(x_train)\n",
    "x_test=sc.fit_transform(x_test)\n"
   ]
  },
  {
   "cell_type": "code",
   "execution_count": 314,
   "id": "be7811c0",
   "metadata": {},
   "outputs": [
    {
     "data": {
      "text/plain": [
       "array([[-0.65322882,  1.42792809, -0.04039183, ..., -1.1292528 ,\n",
       "        -0.38400811, -1.33321745],\n",
       "       [ 0.28407766,  1.42792809,  0.30026721, ...,  1.636502  ,\n",
       "         0.2321567 ,  0.57782961],\n",
       "       [ 0.36218653, -0.79090214,  0.07316118, ...,  0.80677556,\n",
       "        -0.25859403, -1.33321745],\n",
       "       ...,\n",
       "       [-0.55535967,  0.03784904,  1.94610827, ..., -0.71273915,\n",
       "        -0.25176178,  0.57782961],\n",
       "       [ 0.19256913, -0.41025965,  1.945122  , ...,  1.30437445,\n",
       "        -0.13956817, -1.33321745],\n",
       "       [-0.34079332,  1.42792809,  1.81125616, ..., -0.85267732,\n",
       "         0.0199376 ,  0.57782961]])"
      ]
     },
     "execution_count": 314,
     "metadata": {},
     "output_type": "execute_result"
    }
   ],
   "source": [
    "x_train"
   ]
  },
  {
   "cell_type": "code",
   "execution_count": 315,
   "id": "a103f10d",
   "metadata": {},
   "outputs": [
    {
     "data": {
      "text/plain": [
       "array([[-0.58403073, -0.13047381, -1.06736083, ..., -0.2933866 ,\n",
       "        -0.13519547, -1.31518347],\n",
       "       [ 0.55932459, -0.79873574, -0.85117032, ..., -1.14645667,\n",
       "        -0.38212762, -1.31518347],\n",
       "       [-0.01235307, -0.79873574, -0.85117032, ...,  1.69711023,\n",
       "        -0.05662615, -1.31518347],\n",
       "       ...,\n",
       "       [-0.58403073, -0.79873574,  0.73756351, ..., -0.57774329,\n",
       "        -0.22498898,  0.62981348],\n",
       "       [-0.66569896,  0.51408855,  0.58200916, ..., -1.14645667,\n",
       "        -0.33369947,  0.62981348],\n",
       "       [ 0.55932459, -0.79873574, -1.19161328, ...,  1.12839685,\n",
       "        -0.35406715,  0.62981348]])"
      ]
     },
     "execution_count": 315,
     "metadata": {},
     "output_type": "execute_result"
    }
   ],
   "source": [
    "x_test"
   ]
  },
  {
   "cell_type": "markdown",
   "id": "88164a9a",
   "metadata": {},
   "source": [
    "# Logistic regression "
   ]
  },
  {
   "cell_type": "code",
   "execution_count": 316,
   "id": "508f26bf",
   "metadata": {},
   "outputs": [],
   "source": [
    "from sklearn.linear_model import LogisticRegression"
   ]
  },
  {
   "cell_type": "code",
   "execution_count": 317,
   "id": "0548cd1b",
   "metadata": {},
   "outputs": [],
   "source": [
    "lr=LogisticRegression()"
   ]
  },
  {
   "cell_type": "code",
   "execution_count": 318,
   "id": "2b6b38cb",
   "metadata": {},
   "outputs": [
    {
     "data": {
      "text/plain": [
       "LogisticRegression()"
      ]
     },
     "execution_count": 318,
     "metadata": {},
     "output_type": "execute_result"
    }
   ],
   "source": [
    "lr.fit(x_train,y_train)"
   ]
  },
  {
   "cell_type": "code",
   "execution_count": 319,
   "id": "f1029953",
   "metadata": {},
   "outputs": [],
   "source": [
    "pred=lr.predict(x_test)"
   ]
  },
  {
   "cell_type": "code",
   "execution_count": 320,
   "id": "f35b486f",
   "metadata": {},
   "outputs": [],
   "source": [
    "from sklearn.metrics import confusion_matrix,classification_report,accuracy_score,auc"
   ]
  },
  {
   "cell_type": "code",
   "execution_count": 321,
   "id": "9bd9f015",
   "metadata": {},
   "outputs": [
    {
     "name": "stdout",
     "output_type": "stream",
     "text": [
      "[[1416  391]\n",
      " [ 387 1552]]\n"
     ]
    }
   ],
   "source": [
    "print(confusion_matrix(pred,y_test))"
   ]
  },
  {
   "cell_type": "code",
   "execution_count": 322,
   "id": "9c418e72",
   "metadata": {},
   "outputs": [
    {
     "name": "stdout",
     "output_type": "stream",
     "text": [
      "0.792311799252536\n"
     ]
    }
   ],
   "source": [
    "print(accuracy_score(pred,y_test))"
   ]
  },
  {
   "cell_type": "code",
   "execution_count": 323,
   "id": "97ae5dc6",
   "metadata": {},
   "outputs": [],
   "source": [
    "from sklearn.metrics import precision_score, recall_score, f1_score\n"
   ]
  },
  {
   "cell_type": "code",
   "execution_count": 324,
   "id": "6f133c0b",
   "metadata": {},
   "outputs": [
    {
     "data": {
      "text/plain": [
       "0.7987647967061245"
      ]
     },
     "execution_count": 324,
     "metadata": {},
     "output_type": "execute_result"
    }
   ],
   "source": [
    " precision_score(pred,y_test)"
   ]
  },
  {
   "cell_type": "code",
   "execution_count": 325,
   "id": "8e36bdfb",
   "metadata": {},
   "outputs": [
    {
     "data": {
      "text/plain": [
       "0.8004125838060856"
      ]
     },
     "execution_count": 325,
     "metadata": {},
     "output_type": "execute_result"
    }
   ],
   "source": [
    "recall_score(pred,y_test)"
   ]
  },
  {
   "cell_type": "code",
   "execution_count": 326,
   "id": "26f9dd9d",
   "metadata": {},
   "outputs": [
    {
     "data": {
      "text/plain": [
       "0.7995878413189077"
      ]
     },
     "execution_count": 326,
     "metadata": {},
     "output_type": "execute_result"
    }
   ],
   "source": [
    "f1_score(pred,y_test)"
   ]
  },
  {
   "cell_type": "code",
   "execution_count": 327,
   "id": "86fca2cf",
   "metadata": {},
   "outputs": [
    {
     "data": {
      "text/plain": [
       "0.7995878413189077"
      ]
     },
     "execution_count": 327,
     "metadata": {},
     "output_type": "execute_result"
    }
   ],
   "source": [
    "f1_score(y_test,pred)"
   ]
  },
  {
   "cell_type": "markdown",
   "id": "047e008a",
   "metadata": {},
   "source": [
    "# KNeighborsClassifier"
   ]
  },
  {
   "cell_type": "code",
   "execution_count": 328,
   "id": "098295f2",
   "metadata": {},
   "outputs": [],
   "source": [
    "from sklearn.neighbors import KNeighborsClassifier\n"
   ]
  },
  {
   "cell_type": "code",
   "execution_count": 329,
   "id": "c6e4e587",
   "metadata": {},
   "outputs": [],
   "source": [
    "knn=KNeighborsClassifier()"
   ]
  },
  {
   "cell_type": "code",
   "execution_count": 330,
   "id": "d65abd61",
   "metadata": {},
   "outputs": [
    {
     "data": {
      "text/plain": [
       "KNeighborsClassifier()"
      ]
     },
     "execution_count": 330,
     "metadata": {},
     "output_type": "execute_result"
    }
   ],
   "source": [
    "knn.fit(x_train,y_train)"
   ]
  },
  {
   "cell_type": "code",
   "execution_count": 331,
   "id": "14cc069a",
   "metadata": {},
   "outputs": [
    {
     "name": "stderr",
     "output_type": "stream",
     "text": [
      "C:\\Users\\Rajat-PC\\anaconda3\\lib\\site-packages\\sklearn\\neighbors\\_classification.py:228: FutureWarning: Unlike other reduction functions (e.g. `skew`, `kurtosis`), the default behavior of `mode` typically preserves the axis it acts along. In SciPy 1.11.0, this behavior will change: the default value of `keepdims` will become False, the `axis` over which the statistic is taken will be eliminated, and the value None will no longer be accepted. Set `keepdims` to True or False to avoid this warning.\n",
      "  mode, _ = stats.mode(_y[neigh_ind, k], axis=1)\n"
     ]
    }
   ],
   "source": [
    "pred1=knn.predict(x_test)"
   ]
  },
  {
   "cell_type": "code",
   "execution_count": 332,
   "id": "e8f81f98",
   "metadata": {},
   "outputs": [
    {
     "name": "stdout",
     "output_type": "stream",
     "text": [
      "[[1657   40]\n",
      " [ 146 1903]]\n"
     ]
    }
   ],
   "source": [
    "print(confusion_matrix(pred1,y_test))"
   ]
  },
  {
   "cell_type": "code",
   "execution_count": 333,
   "id": "f43d00a0",
   "metadata": {},
   "outputs": [
    {
     "name": "stdout",
     "output_type": "stream",
     "text": [
      "0.9503470368392952\n"
     ]
    }
   ],
   "source": [
    "print(accuracy_score(pred1,y_test))"
   ]
  },
  {
   "cell_type": "code",
   "execution_count": 334,
   "id": "14d00068",
   "metadata": {},
   "outputs": [
    {
     "data": {
      "text/plain": [
       "0.9794132784354092"
      ]
     },
     "execution_count": 334,
     "metadata": {},
     "output_type": "execute_result"
    }
   ],
   "source": [
    " precision_score(pred1,y_test)"
   ]
  },
  {
   "cell_type": "code",
   "execution_count": 335,
   "id": "7619a222",
   "metadata": {},
   "outputs": [
    {
     "data": {
      "text/plain": [
       "0.928745729624207"
      ]
     },
     "execution_count": 335,
     "metadata": {},
     "output_type": "execute_result"
    }
   ],
   "source": [
    "recall_score(pred1,y_test)"
   ]
  },
  {
   "cell_type": "code",
   "execution_count": 336,
   "id": "c8c0ab87",
   "metadata": {},
   "outputs": [
    {
     "data": {
      "text/plain": [
       "0.9534068136272547"
      ]
     },
     "execution_count": 336,
     "metadata": {},
     "output_type": "execute_result"
    }
   ],
   "source": [
    "f1_score(pred1,y_test)"
   ]
  },
  {
   "cell_type": "markdown",
   "id": "b45d5613",
   "metadata": {},
   "source": [
    "# DecisionTreeClassifier"
   ]
  },
  {
   "cell_type": "code",
   "execution_count": 337,
   "id": "b277fd9c",
   "metadata": {},
   "outputs": [],
   "source": [
    "from sklearn.tree import DecisionTreeClassifier\n"
   ]
  },
  {
   "cell_type": "code",
   "execution_count": 338,
   "id": "c1be5bfc",
   "metadata": {},
   "outputs": [],
   "source": [
    "dt=DecisionTreeClassifier()"
   ]
  },
  {
   "cell_type": "code",
   "execution_count": 339,
   "id": "2b4ee834",
   "metadata": {},
   "outputs": [
    {
     "data": {
      "text/plain": [
       "DecisionTreeClassifier()"
      ]
     },
     "execution_count": 339,
     "metadata": {},
     "output_type": "execute_result"
    }
   ],
   "source": [
    "dt.fit(x_train,y_train)"
   ]
  },
  {
   "cell_type": "code",
   "execution_count": 340,
   "id": "e6c117dd",
   "metadata": {},
   "outputs": [],
   "source": [
    "pred2=dt.predict(x_test)"
   ]
  },
  {
   "cell_type": "code",
   "execution_count": 341,
   "id": "3fea065f",
   "metadata": {},
   "outputs": [
    {
     "name": "stdout",
     "output_type": "stream",
     "text": [
      "[[1249   44]\n",
      " [ 554 1899]]\n"
     ]
    }
   ],
   "source": [
    "print(confusion_matrix(pred2,y_test))"
   ]
  },
  {
   "cell_type": "code",
   "execution_count": 342,
   "id": "ba3be7f7",
   "metadata": {},
   "outputs": [
    {
     "name": "stdout",
     "output_type": "stream",
     "text": [
      "0.8403630539241858\n"
     ]
    }
   ],
   "source": [
    "print(accuracy_score(pred2,y_test))"
   ]
  },
  {
   "cell_type": "code",
   "execution_count": 343,
   "id": "17097e14",
   "metadata": {},
   "outputs": [
    {
     "data": {
      "text/plain": [
       "0.9773546062789501"
      ]
     },
     "execution_count": 343,
     "metadata": {},
     "output_type": "execute_result"
    }
   ],
   "source": [
    " precision_score(pred2,y_test)"
   ]
  },
  {
   "cell_type": "code",
   "execution_count": 344,
   "id": "003dac51",
   "metadata": {},
   "outputs": [
    {
     "data": {
      "text/plain": [
       "0.7741540970240521"
      ]
     },
     "execution_count": 344,
     "metadata": {},
     "output_type": "execute_result"
    }
   ],
   "source": [
    "recall_score(pred2,y_test)"
   ]
  },
  {
   "cell_type": "code",
   "execution_count": 345,
   "id": "c75d9622",
   "metadata": {},
   "outputs": [
    {
     "data": {
      "text/plain": [
       "0.8639672429481345"
      ]
     },
     "execution_count": 345,
     "metadata": {},
     "output_type": "execute_result"
    }
   ],
   "source": [
    "f1_score(pred2,y_test)"
   ]
  },
  {
   "cell_type": "markdown",
   "id": "1f4b1d84",
   "metadata": {},
   "source": [
    "# RandomForestClassifier"
   ]
  },
  {
   "cell_type": "code",
   "execution_count": 346,
   "id": "c81ebe95",
   "metadata": {},
   "outputs": [],
   "source": [
    "from sklearn.ensemble import RandomForestClassifier"
   ]
  },
  {
   "cell_type": "code",
   "execution_count": 347,
   "id": "31aa3651",
   "metadata": {},
   "outputs": [],
   "source": [
    "rf=RandomForestClassifier()"
   ]
  },
  {
   "cell_type": "code",
   "execution_count": 348,
   "id": "edb65559",
   "metadata": {},
   "outputs": [
    {
     "data": {
      "text/plain": [
       "RandomForestClassifier()"
      ]
     },
     "execution_count": 348,
     "metadata": {},
     "output_type": "execute_result"
    }
   ],
   "source": [
    "rf.fit(x_train,y_train)"
   ]
  },
  {
   "cell_type": "code",
   "execution_count": 349,
   "id": "a099d43c",
   "metadata": {},
   "outputs": [],
   "source": [
    "pred3=rf.predict(x_test)"
   ]
  },
  {
   "cell_type": "code",
   "execution_count": 350,
   "id": "f232b9e7",
   "metadata": {},
   "outputs": [
    {
     "name": "stdout",
     "output_type": "stream",
     "text": [
      "[[1574   13]\n",
      " [ 229 1930]]\n"
     ]
    }
   ],
   "source": [
    "print(confusion_matrix(pred3,y_test))"
   ]
  },
  {
   "cell_type": "code",
   "execution_count": 351,
   "id": "fb8297da",
   "metadata": {},
   "outputs": [
    {
     "name": "stdout",
     "output_type": "stream",
     "text": [
      "0.9353977576081153\n"
     ]
    }
   ],
   "source": [
    "print(accuracy_score(pred3,y_test))"
   ]
  },
  {
   "cell_type": "code",
   "execution_count": 352,
   "id": "4d155d35",
   "metadata": {},
   "outputs": [
    {
     "data": {
      "text/plain": [
       "0.993309315491508"
      ]
     },
     "execution_count": 352,
     "metadata": {},
     "output_type": "execute_result"
    }
   ],
   "source": [
    " precision_score(pred3,y_test)"
   ]
  },
  {
   "cell_type": "code",
   "execution_count": 353,
   "id": "28dd38da",
   "metadata": {},
   "outputs": [
    {
     "data": {
      "text/plain": [
       "0.8939323761000463"
      ]
     },
     "execution_count": 353,
     "metadata": {},
     "output_type": "execute_result"
    }
   ],
   "source": [
    "recall_score(pred3,y_test)"
   ]
  },
  {
   "cell_type": "code",
   "execution_count": 355,
   "id": "4297de57",
   "metadata": {},
   "outputs": [
    {
     "data": {
      "text/plain": [
       "0.9410043881033643"
      ]
     },
     "execution_count": 355,
     "metadata": {},
     "output_type": "execute_result"
    }
   ],
   "source": [
    "f1_score(pred3,y_test)"
   ]
  },
  {
   "cell_type": "code",
   "execution_count": null,
   "id": "22e6268f",
   "metadata": {},
   "outputs": [],
   "source": []
  },
  {
   "cell_type": "code",
   "execution_count": 361,
   "id": "94dd1b45",
   "metadata": {},
   "outputs": [],
   "source": [
    "acc_score=pd.DataFrame({\"models\":[\"LR\",\"KNN\",\"DT\",\"RF\"],\n",
    "                          \"ACC\":[accuracy_score(pred,y_test),\n",
    "                                accuracy_score(pred1,y_test),\n",
    "                                accuracy_score(pred2,y_test),\n",
    "                                accuracy_score(pred3,y_test)]})"
   ]
  },
  {
   "cell_type": "code",
   "execution_count": 365,
   "id": "d5a1ef08",
   "metadata": {},
   "outputs": [
    {
     "data": {
      "text/html": [
       "<div>\n",
       "<style scoped>\n",
       "    .dataframe tbody tr th:only-of-type {\n",
       "        vertical-align: middle;\n",
       "    }\n",
       "\n",
       "    .dataframe tbody tr th {\n",
       "        vertical-align: top;\n",
       "    }\n",
       "\n",
       "    .dataframe thead th {\n",
       "        text-align: right;\n",
       "    }\n",
       "</style>\n",
       "<table border=\"1\" class=\"dataframe\">\n",
       "  <thead>\n",
       "    <tr style=\"text-align: right;\">\n",
       "      <th></th>\n",
       "      <th>models</th>\n",
       "      <th>ACC</th>\n",
       "    </tr>\n",
       "  </thead>\n",
       "  <tbody>\n",
       "    <tr>\n",
       "      <th>0</th>\n",
       "      <td>LR</td>\n",
       "      <td>0.792312</td>\n",
       "    </tr>\n",
       "    <tr>\n",
       "      <th>1</th>\n",
       "      <td>KNN</td>\n",
       "      <td>0.950347</td>\n",
       "    </tr>\n",
       "    <tr>\n",
       "      <th>2</th>\n",
       "      <td>DT</td>\n",
       "      <td>0.840363</td>\n",
       "    </tr>\n",
       "    <tr>\n",
       "      <th>3</th>\n",
       "      <td>RF</td>\n",
       "      <td>0.935398</td>\n",
       "    </tr>\n",
       "  </tbody>\n",
       "</table>\n",
       "</div>"
      ],
      "text/plain": [
       "  models       ACC\n",
       "0     LR  0.792312\n",
       "1    KNN  0.950347\n",
       "2     DT  0.840363\n",
       "3     RF  0.935398"
      ]
     },
     "execution_count": 365,
     "metadata": {},
     "output_type": "execute_result"
    }
   ],
   "source": [
    "acc_score"
   ]
  },
  {
   "cell_type": "code",
   "execution_count": 366,
   "id": "63afbaee",
   "metadata": {},
   "outputs": [
    {
     "data": {
      "text/plain": [
       "<AxesSubplot:xlabel='models', ylabel='ACC'>"
      ]
     },
     "execution_count": 366,
     "metadata": {},
     "output_type": "execute_result"
    },
    {
     "data": {
      "image/png": "[encoded data removed]",
      "text/plain": [
       "<Figure size 640x480 with 1 Axes>"
      ]
     },
     "metadata": {},
     "output_type": "display_data"
    }
   ],
   "source": [
    "sns.barplot(x=acc_score.models,y=acc_score.ACC)"
   ]
  },
  {
   "cell_type": "code",
   "execution_count": 370,
   "id": "6e7e95b6",
   "metadata": {},
   "outputs": [],
   "source": [
    "pre_score=pd.DataFrame({\"models\":[\"LR\",\"KNN\",\"DT\",\"RF\"],\n",
    "                          \"PRE\":[precision_score(pred,y_test),\n",
    "                                precision_score(pred1,y_test),\n",
    "                                precision_score(pred2,y_test),\n",
    "                                precision_score(pred3,y_test)]})"
   ]
  },
  {
   "cell_type": "code",
   "execution_count": 371,
   "id": "171d970c",
   "metadata": {},
   "outputs": [
    {
     "data": {
      "text/html": [
       "<div>\n",
       "<style scoped>\n",
       "    .dataframe tbody tr th:only-of-type {\n",
       "        vertical-align: middle;\n",
       "    }\n",
       "\n",
       "    .dataframe tbody tr th {\n",
       "        vertical-align: top;\n",
       "    }\n",
       "\n",
       "    .dataframe thead th {\n",
       "        text-align: right;\n",
       "    }\n",
       "</style>\n",
       "<table border=\"1\" class=\"dataframe\">\n",
       "  <thead>\n",
       "    <tr style=\"text-align: right;\">\n",
       "      <th></th>\n",
       "      <th>models</th>\n",
       "      <th>PRE</th>\n",
       "    </tr>\n",
       "  </thead>\n",
       "  <tbody>\n",
       "    <tr>\n",
       "      <th>0</th>\n",
       "      <td>LR</td>\n",
       "      <td>0.798765</td>\n",
       "    </tr>\n",
       "    <tr>\n",
       "      <th>1</th>\n",
       "      <td>KNN</td>\n",
       "      <td>0.979413</td>\n",
       "    </tr>\n",
       "    <tr>\n",
       "      <th>2</th>\n",
       "      <td>DT</td>\n",
       "      <td>0.977355</td>\n",
       "    </tr>\n",
       "    <tr>\n",
       "      <th>3</th>\n",
       "      <td>RF</td>\n",
       "      <td>0.993309</td>\n",
       "    </tr>\n",
       "  </tbody>\n",
       "</table>\n",
       "</div>"
      ],
      "text/plain": [
       "  models       PRE\n",
       "0     LR  0.798765\n",
       "1    KNN  0.979413\n",
       "2     DT  0.977355\n",
       "3     RF  0.993309"
      ]
     },
     "execution_count": 371,
     "metadata": {},
     "output_type": "execute_result"
    }
   ],
   "source": [
    "pre_score"
   ]
  },
  {
   "cell_type": "code",
   "execution_count": 372,
   "id": "02241a4d",
   "metadata": {},
   "outputs": [
    {
     "data": {
      "text/plain": [
       "<AxesSubplot:xlabel='models', ylabel='PRE'>"
      ]
     },
     "execution_count": 372,
     "metadata": {},
     "output_type": "execute_result"
    },
    {
     "data": {
      "image/png": "[encoded data removed]",
      "text/plain": [
       "<Figure size 640x480 with 1 Axes>"
      ]
     },
     "metadata": {},
     "output_type": "display_data"
    }
   ],
   "source": [
    "sns.barplot(x=pre_score.models,y=pre_score.PRE)"
   ]
  },
  {
   "cell_type": "code",
   "execution_count": 373,
   "id": "ac9b31a5",
   "metadata": {},
   "outputs": [],
   "source": [
    "r_score=pd.DataFrame({\"models\":[\"LR\",\"KNN\",\"DT\",\"RF\"],\n",
    "                          \"recall_score\":[recall_score(pred,y_test),\n",
    "                                recall_score(pred1,y_test),\n",
    "                                recall_score(pred2,y_test),\n",
    "                               recall_score(pred3,y_test)]})"
   ]
  },
  {
   "cell_type": "code",
   "execution_count": 375,
   "id": "796faab6",
   "metadata": {},
   "outputs": [
    {
     "data": {
      "text/plain": [
       "<AxesSubplot:xlabel='models', ylabel='recall_score'>"
      ]
     },
     "execution_count": 375,
     "metadata": {},
     "output_type": "execute_result"
    },
    {
     "data": {
      "image/png": "[encoded data removed]",
      "text/plain": [
       "<Figure size 640x480 with 1 Axes>"
      ]
     },
     "metadata": {},
     "output_type": "display_data"
    }
   ],
   "source": [
    "sns.barplot(x=r_score.models,y=r_score.recall_score)"
   ]
  },
  {
   "cell_type": "code",
   "execution_count": null,
   "id": "092f2a53",
   "metadata": {},
   "outputs": [],
   "source": []
  }
 ],
 "metadata": {
  "kernelspec": {
   "display_name": "Python 3 (ipykernel)",
   "language": "python",
   "name": "python3"
  },
  "language_info": {
   "codemirror_mode": {
    "name": "ipython",
    "version": 3
   },
   "file_extension": ".py",
   "mimetype": "text/x-python",
   "name": "python",
   "nbconvert_exporter": "python",
   "pygments_lexer": "ipython3",
   "version": "3.9.13"
  }
 },
 "nbformat": 4,
 "nbformat_minor": 5
}
